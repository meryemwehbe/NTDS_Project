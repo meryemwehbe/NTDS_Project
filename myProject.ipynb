{
 "cells": [
  {
   "cell_type": "markdown",
   "metadata": {},
   "source": [
    "# Imports :"
   ]
  },
  {
   "cell_type": "code",
   "execution_count": 158,
   "metadata": {
    "collapsed": false
   },
   "outputs": [
    {
     "name": "stdout",
     "output_type": "stream",
     "text": [
      "[nltk_data] Downloading package stopwords to\n",
      "[nltk_data]     C:\\Users\\pc\\AppData\\Roaming\\nltk_data...\n",
      "[nltk_data]   Package stopwords is already up-to-date!\n",
      "[nltk_data] Downloading package punkt to\n",
      "[nltk_data]     C:\\Users\\pc\\AppData\\Roaming\\nltk_data...\n",
      "[nltk_data]   Package punkt is already up-to-date!\n",
      "[nltk_data] Downloading package movie_reviews to\n",
      "[nltk_data]     C:\\Users\\pc\\AppData\\Roaming\\nltk_data...\n",
      "[nltk_data]   Package movie_reviews is already up-to-date!\n",
      "The autoreload extension is already loaded. To reload it, use:\n",
      "  %reload_ext autoreload\n"
     ]
    },
    {
     "ename": "ImportError",
     "evalue": "No module named 'ncut'",
     "output_type": "error",
     "traceback": [
      "\u001b[1;31m---------------------------------------------------------------------------\u001b[0m",
      "\u001b[1;31mImportError\u001b[0m                               Traceback (most recent call last)",
      "\u001b[1;32m<ipython-input-158-68ca62249de4>\u001b[0m in \u001b[0;36m<module>\u001b[1;34m()\u001b[0m\n\u001b[0;32m     66\u001b[0m \u001b[0mget_ipython\u001b[0m\u001b[1;33m(\u001b[0m\u001b[1;33m)\u001b[0m\u001b[1;33m.\u001b[0m\u001b[0mmagic\u001b[0m\u001b[1;33m(\u001b[0m\u001b[1;34m'load_ext autoreload'\u001b[0m\u001b[1;33m)\u001b[0m\u001b[1;33m\u001b[0m\u001b[0m\n\u001b[0;32m     67\u001b[0m \u001b[0mget_ipython\u001b[0m\u001b[1;33m(\u001b[0m\u001b[1;33m)\u001b[0m\u001b[1;33m.\u001b[0m\u001b[0mmagic\u001b[0m\u001b[1;33m(\u001b[0m\u001b[1;34m'autoreload 2'\u001b[0m\u001b[1;33m)\u001b[0m\u001b[1;33m\u001b[0m\u001b[0m\n\u001b[1;32m---> 68\u001b[1;33m \u001b[1;32mfrom\u001b[0m \u001b[0mlib\u001b[0m\u001b[1;33m.\u001b[0m\u001b[0mutils\u001b[0m \u001b[1;32mimport\u001b[0m \u001b[0mcompute_ncut\u001b[0m\u001b[1;33m\u001b[0m\u001b[0m\n\u001b[0m\u001b[0;32m     69\u001b[0m \u001b[1;32mfrom\u001b[0m \u001b[0mlib\u001b[0m\u001b[1;33m.\u001b[0m\u001b[0mutils\u001b[0m \u001b[1;32mimport\u001b[0m \u001b[0mreindex_W_with_classes\u001b[0m\u001b[1;33m\u001b[0m\u001b[0m\n\u001b[0;32m     70\u001b[0m \u001b[1;32mfrom\u001b[0m \u001b[0mlib\u001b[0m\u001b[1;33m.\u001b[0m\u001b[0mutils\u001b[0m \u001b[1;32mimport\u001b[0m \u001b[0mnldr_visualization\u001b[0m\u001b[1;33m\u001b[0m\u001b[0m\n",
      "\u001b[1;32mC:\\Users\\pc\\datascience\\lib\\utils.py\u001b[0m in \u001b[0;36m<module>\u001b[1;34m()\u001b[0m\n\u001b[0;32m      3\u001b[0m \u001b[1;32mfrom\u001b[0m \u001b[0mcollections\u001b[0m \u001b[1;32mimport\u001b[0m \u001b[0mdefaultdict\u001b[0m\u001b[1;33m\u001b[0m\u001b[0m\n\u001b[0;32m      4\u001b[0m \u001b[1;32mfrom\u001b[0m \u001b[0mscipy\u001b[0m \u001b[1;32mimport\u001b[0m \u001b[0mstats\u001b[0m\u001b[1;33m\u001b[0m\u001b[0m\n\u001b[1;32m----> 5\u001b[1;33m \u001b[1;32mimport\u001b[0m \u001b[0mncut\u001b[0m\u001b[1;33m\u001b[0m\u001b[0m\n\u001b[0m\u001b[0;32m      6\u001b[0m \u001b[1;32mimport\u001b[0m \u001b[0msklearn\u001b[0m\u001b[1;33m.\u001b[0m\u001b[0mmetrics\u001b[0m\u001b[1;33m.\u001b[0m\u001b[0mpairwise\u001b[0m\u001b[1;33m\u001b[0m\u001b[0m\n\u001b[0;32m      7\u001b[0m \u001b[1;32mimport\u001b[0m \u001b[0mtime\u001b[0m\u001b[1;33m\u001b[0m\u001b[0m\n",
      "\u001b[1;31mImportError\u001b[0m: No module named 'ncut'"
     ]
    }
   ],
   "source": [
    "import numpy as np\n",
    "import math\n",
    "import scipy.io\n",
    "import csv\n",
    "from IPython.display import display\n",
    "from scipy import sparse\n",
    "import os.path\n",
    "import nltk.classify.util\n",
    "from nltk.classify import NaiveBayesClassifier\n",
    "from sklearn.feature_extraction.text import CountVectorizer\n",
    "import re\n",
    "from collections import Counter\n",
    "from nltk.corpus import stopwords\n",
    "import sklearn.neighbors, sklearn.linear_model, sklearn.ensemble, sklearn.naive_bayes\n",
    "import time\n",
    "import matplotlib.pyplot as plt\n",
    "nltk.download(\"stopwords\") \n",
    "nltk.download('punkt')\n",
    "nltk.download('movie_reviews')\n",
    "#removing stopwords\n",
    "from nltk import word_tokenize,sent_tokenize\n",
    "\n",
    "import nltk.classify.util\n",
    "from nltk.classify import NaiveBayesClassifier\n",
    "from nltk.corpus import movie_reviews\n",
    "\n",
    "\n",
    "## drawing tools\n",
    "# Load libraries\n",
    "\n",
    "# Math\n",
    "import numpy as np\n",
    "\n",
    "# Visualization \n",
    "%matplotlib notebook \n",
    "import matplotlib.pyplot as plt\n",
    "plt.rcParams.update({'figure.max_open_warning': 0})\n",
    "from mpl_toolkits.axes_grid1 import make_axes_locatable\n",
    "from scipy import ndimage\n",
    "\n",
    "# High-res visualization (but no rotation possible)\n",
    "%matplotlib inline\n",
    "from IPython.display import set_matplotlib_formats\n",
    "set_matplotlib_formats('png2x','pdf')\n",
    "\n",
    "# Print output of LFR code\n",
    "import subprocess\n",
    "\n",
    "# Sparse matrix\n",
    "import scipy.sparse\n",
    "import scipy.sparse.linalg\n",
    "\n",
    "# 3D visualization\n",
    "import pylab\n",
    "from mpl_toolkits.mplot3d import Axes3D\n",
    "from matplotlib import pyplot\n",
    "\n",
    "# Import data\n",
    "import scipy.io\n",
    "\n",
    "# Import functions in lib folder\n",
    "import sys\n",
    "sys.path.insert(1, 'lib')\n",
    "\n",
    "# Import helper functions\n",
    "%load_ext autoreload\n",
    "%autoreload 2\n",
    "from lib.utils import compute_ncut\n",
    "from lib.utils import reindex_W_with_classes\n",
    "from lib.utils import nldr_visualization\n",
    "from lib.utils import construct_knn_graph\n",
    "from lib.utils import compute_purity\n",
    "\n",
    "# Import distance function\n",
    "import sklearn.metrics.pairwise\n",
    "\n",
    "# Remove warnings\n",
    "import warnings\n",
    "warnings.filterwarnings(\"ignore\")\n",
    "\n",
    "\n",
    "\n",
    "\n",
    "def find_between_r( s, first, last ):\n",
    "    try:\n",
    "        start = s.rindex( first ) + len( first )\n",
    "        end = s.rindex( last, start )\n",
    "        return s[start:end]\n",
    "    except ValueError:\n",
    "        return \"\""
   ]
  },
  {
   "cell_type": "markdown",
   "metadata": {},
   "source": [
    "# Datasets & Preprocessing"
   ]
  },
  {
   "cell_type": "markdown",
   "metadata": {},
   "source": [
    "** Sentimental Analysis Text dataset: **"
   ]
  },
  {
   "cell_type": "code",
   "execution_count": 196,
   "metadata": {
    "collapsed": false
   },
   "outputs": [
    {
     "name": "stdout",
     "output_type": "stream",
     "text": [
      "Length = 1578613 \n",
      "Type = <class 'numpy.ndarray'>\n"
     ]
    }
   ],
   "source": [
    "SAT_data =[]\n",
    "with open('Projectdataset/Sentiment Analysis Dataset.csv', 'r') as csvfile:\n",
    "    spamreader = csv.reader(csvfile, delimiter=',')#, quotechar='|')\n",
    "    for row in spamreader:\n",
    "        SAT_data.append(row) \n",
    "SAT_data = SAT_data[2:]\n",
    "SAT_data = [[row[1],row[3]] for row in SAT_data]\n",
    "SAT_data = np.array(SAT_data)\n",
    "#SAT_data = SAT_data[0:8000]\n",
    "print('Length = {} '.format(len(SAT_data)))\n",
    "print('Type = {}'.format(type(SAT_data)))\n"
   ]
  },
  {
   "cell_type": "markdown",
   "metadata": {},
   "source": [
    "** Polarity Data: **"
   ]
  },
  {
   "cell_type": "code",
   "execution_count": 87,
   "metadata": {
    "collapsed": false,
    "scrolled": true
   },
   "outputs": [
    {
     "name": "stdout",
     "output_type": "stream",
     "text": [
      "Length = 10662 \n",
      "Type = <class 'numpy.ndarray'>\n",
      "[['0.0'\n",
      "  \"personal velocity ought to be exploring these women's inner lives , but it never moves beyond their surfaces . \"]\n",
      " ['1.0' \"there's no reason to miss interview with the assassin\"]\n",
      " ['0.0'\n",
      "  \"if kaufman kept cameron diaz a prisoner in a cage with her ape , in his latest , he'd have them mate . \"]\n",
      " ..., \n",
      " ['1.0'\n",
      "  'lan yu is at times too restrained , yet there are moments it captures the erotics of intimacy in a way that makes most american love stories look downright unfree . ']\n",
      " ['0.0'\n",
      "  \"although the sequel has all the outward elements of the original , the first film's lovely flakiness is gone , replaced by the forced funniness found in the dullest kiddie flicks . \"]\n",
      " ['1.0'\n",
      "  'mلs sarcلstica , divertida y demencial que su predecesora , es un buen ejemplo de lo que es el cine de entretenimiento puro y sin complejos . ']]\n"
     ]
    }
   ],
   "source": [
    "polarity_data = []\n",
    "file1 = open(\"Projectdataset/rt-polaritydata/rt-polarity.neg\", \"r\")\n",
    "file2 = open(\"Projectdataset/rt-polaritydata/rt-polarity.pos\", \"r\")\n",
    "dataneg = file1.readlines();\n",
    "datapos = file2.readlines();\n",
    "dataneg = [i.replace('\\n','') for i in dataneg]\n",
    "datapos = [i.replace('\\n','') for i in datapos]\n",
    "\n",
    "zero = np.zeros(len(dataneg))\n",
    "dataneg = np.column_stack ((zero , dataneg) )\n",
    "\n",
    "one = np.ones(len(datapos))\n",
    "datapos = np.column_stack ((one , datapos) )\n",
    "\n",
    "polarity_data = np.concatenate ((datapos,dataneg), axis = 0)\n",
    "np.random.shuffle(polarity_data)\n",
    "\n",
    "print('Length = {} '.format(len(polarity_data)))\n",
    "print('Type = {}'.format(type(polarity_data)))\n",
    "print(polarity_data)"
   ]
  },
  {
   "cell_type": "markdown",
   "metadata": {},
   "source": [
    "** UMCCompetition: **"
   ]
  },
  {
   "cell_type": "code",
   "execution_count": 93,
   "metadata": {
    "collapsed": false
   },
   "outputs": [
    {
     "name": "stdout",
     "output_type": "stream",
     "text": [
      "Length = 1509 \n",
      "Type = <class 'numpy.ndarray'>\n",
      "[['1' 'i thought da vinci code was great, same with kite runner.']\n",
      " ['1' 'Mission Impossible III was SO awesome!..']\n",
      " ['1'\n",
      "  'The Da Vinci Code was so awesome, I cannot even begin to comprehend nor explain the awesomeness of its hardcore, awesome power of awesomeness.....']\n",
      " ..., \n",
      " ['1'\n",
      "  'i love kirsten / leah / kate escapades and mission impossible tom as well...']\n",
      " ['1' 'The Da Vinci Code is awesome!!']\n",
      " ['1' \"The Da Vinci Code was awesome, I can't wait to read it...\"]]\n"
     ]
    }
   ],
   "source": [
    "umc_data = []\n",
    "file3 = open(\"Projectdataset/UMCCompetition/training.txt\", \"r\")\n",
    "data3 = file3.readlines()\n",
    "for i in range(0,len(data3)):\n",
    "    data3[i] = data3[i].replace('\\n','')\n",
    "    data3[i] = data3[i].split(\"\\t\")\n",
    "umc_data = np.asarray(data3)\n",
    "np.random.shuffle(umc_data)\n",
    "print('Length = {} '.format(len(umc_data)))\n",
    "print('Type = {}'.format(type(umc_data)))\n",
    "print(umc_data)"
   ]
  },
  {
   "cell_type": "markdown",
   "metadata": {},
   "source": [
    "** Amazon dataset: **"
   ]
  },
  {
   "cell_type": "code",
   "execution_count": 128,
   "metadata": {
    "collapsed": false
   },
   "outputs": [
    {
     "name": "stdout",
     "output_type": "stream",
     "text": [
      "Length = 8000 \n",
      "Type = <class 'numpy.ndarray'>\n",
      "[['2.0'\n",
      "  \"It is good if you have internet than you can download the stuff, else, you can't  \"]\n",
      " ['5.0'\n",
      "  \"The RIO rocks! It is so great that Diamond Multimedia prevailed in their fight against the forces of pure evil in the music industry and allowed us, the public, to have the RIO! This little baby holds your MP3's and plays  them with outrageous quality and no moving parts! You simply cannot make  the music &quot;skip&quot;. Take it jogging, bob sledding, whatever! The  Rio is cute and compact, battery lasts forever, runs great and is really  simple to use. Works well with the PC linkup, etc. A hot item!  \"]\n",
      " ['4.0'\n",
      "  'I had high hopes for the Diamond Rio and it certainly lived up 2 the hype. Lightweight and excellent quality with some good connecting software. My only gripe can be with memory. You definately need another 32Mb to store  your music. If you want one, my advice is to wait for the new upgraded  version with 64Mb and a graphic equaliser!  ']\n",
      " ..., \n",
      " ['4.0'\n",
      "  \"Great size, battery life, features, sound. Easy to load right through USB port.  I use the built in mic to record classes and the quality is pretty decent but not as good as my friend's Olympus voice recorder.  The unit turns on easily with a push of a button and this has happened a few times inadvertently while in my pocket - this is the reason I held back one star.  \"]\n",
      " ['4.0'\n",
      "  'Player is great. Sound is very good. Battery life is awesome, does last for some time. Headphone is a little bit big that kinda hurt my ear a little after wear it for a while. Play button can be pushed accidentally when put in pocket. Useful clear case to protect from scratches. Just bought a 2nd one for my sister.  I also bought the newer YP-C1X since it has same battery life rating. YP-C1X is a little bit bigger, round on the back and does NOT come with clear plastic case or battery. It has new USB cable which has two connectors @ the other end. One used to connect to regular USB port on PC and the other used to connect to audio source for direct encoding. YP-MT6X comes with 2 separate cables. Both models have the annoying beep when 1st turned on. Both models have similar screen and fairly similar menu settings. Connecting to USB port and transfer file is a breeze, very easy. Just plug it in, pc detects it as a removable drive. Drag and drop to copy WMAs to player in no time. Both models are nice. It would be nice if YP-C1X has a protective clear case as well. Not sure what happens to the starter battery. Samsung surely try to cut cost there. Not a big issue for me.   ']\n",
      " ['5.0'\n",
      "  'This is a super player, with super sound. Incredible battery life. The only shortcoming is the difficulty in creating a playlist to play songs in order. Workaround: open player files in Explorer, and rename your files adding the numbers 01, 02, 03 ...etc. to the fron of the song filename. It will then play your playlist in the order you want.  ']]\n"
     ]
    }
   ],
   "source": [
    "Amazon_data = []\n",
    "file4 = open(\"Projectdataset/amazonMP3reviews/amazon_mp3\", \"r\")\n",
    "data4 = file4.read()\n",
    "\n",
    "data4 = data4.split(\"#####\")\n",
    "for i in range(1,len(data4)):\n",
    "    text = find_between_r( data4[i], \"[fullText]:\", \"[rating]\" )\n",
    "    text = text.replace(\"\\n\",'')\n",
    "    rating = find_between_r( data4[i],\"[rating]:\",\"[recommend]\")\n",
    "    Amazon_data.append([float(rating),text])\n",
    "Amazon_data = np.asarray(Amazon_data)\n",
    "Amazon_data = Amazon_data[0:8000]\n",
    "print('Length = {} '.format(len(Amazon_data)))\n",
    "print('Type = {}'.format(type(Amazon_data)))\n",
    "print(Amazon_data)\n"
   ]
  },
  {
   "cell_type": "markdown",
   "metadata": {},
   "source": [
    "** TripAdvisor dataset **"
   ]
  },
  {
   "cell_type": "code",
   "execution_count": 149,
   "metadata": {
    "collapsed": false
   },
   "outputs": [],
   "source": [
    "tripAdvisor_data1 = []\n",
    "path = 'Projectdataset/tripadvisor/Aspects'\n",
    "dirs = os.listdir(path)\n",
    "\n",
    "\n",
    "for direct in dirs:\n",
    "    #print(direct)\n",
    "    file5 = open(path+'/'+direct, \"r\")\n",
    "    data5 = file5.read()\n",
    "    data5 = data5.split(\"<Author>\")\n",
    "    data5 = data5[1:]\n",
    "    for data in data5:\n",
    "        ignore = False;\n",
    "        text = find_between_r( data, \"<Content>\", \"<Date>\")\n",
    "        text = text.replace(\"\\n\",'')\n",
    "        rank = find_between_r( data, \"<Rating>\", \"<Aspects>\")\n",
    "        rank = rank.rstrip().split('\\t') \n",
    "        if (rank ==['']):\n",
    "                ignore = True\n",
    "        if not (ignore): \n",
    "            rank = [float(x) for x in rank]\n",
    "            rank =round(np.mean(rank))\n",
    "            tripAdvisor_data1.append((rank, text))\n",
    "       \n",
    "        \n",
    "tripAdvisor_data2 = []\n",
    "path2 = 'Projectdataset/tripadvisor/Texts'\n",
    "dirs2 = os.listdir(path2)\n",
    "\n",
    "\n",
    "#for direct in dirs2:\n",
    "    #print(direct)\n",
    "    #file6 = open(path2+'/'+direct, \"r\")\n",
    "    #data6 = file6.readlines()\n",
    "    #for data in data6:\n",
    "        #ignore = False;\n",
    "        #if \"<Content>\" in data:\n",
    "            #text = data.split(\">\")[1]\n",
    "            #text = text.replace(\"\\n\",'')\n",
    "        #if \"<Rating>\" in data:\n",
    "         #   rank = data.split(\">\")[1]\n",
    "         #   rank = rank.rstrip().split('\\t') \n",
    "         #   if (rank ==['']):\n",
    "         #       ignore = True\n",
    "         #   if not(ignore):       \n",
    "         #       rank = [float(x) for x in rank]\n",
    "         #       rank = np.mean(rank)\n",
    "         #       tripAdvisor_data2.append((rank, text))\n",
    "            \n"
   ]
  },
  {
   "cell_type": "code",
   "execution_count": 150,
   "metadata": {
    "collapsed": false
   },
   "outputs": [
    {
     "name": "stdout",
     "output_type": "stream",
     "text": [
      "Length = 9000 \n",
      "Type = <class 'numpy.ndarray'>\n",
      "4.0\n",
      "Length = 0 \n",
      "Type = <class 'list'>\n"
     ]
    }
   ],
   "source": [
    "tripAdvisor_data1=np.asarray(tripAdvisor_data1[0:9000])\n",
    "print('Length = {} '.format(len(tripAdvisor_data1)))\n",
    "print('Type = {}'.format(type(tripAdvisor_data1)))\n",
    "\n",
    "tripAdvisor_data2=tripAdvisor_data2[0:8000]\n",
    "print('Length = {} '.format(len(tripAdvisor_data2)))\n",
    "print('Type = {}'.format(type(tripAdvisor_data2)))\n",
    "#print(tripAdvisor_data2[1])"
   ]
  },
  {
   "cell_type": "markdown",
   "metadata": {
    "collapsed": true
   },
   "source": [
    "** Sorted Data ACL **"
   ]
  },
  {
   "cell_type": "code",
   "execution_count": 107,
   "metadata": {
    "collapsed": false
   },
   "outputs": [
    {
     "name": "stdout",
     "output_type": "stream",
     "text": [
      "books review\n",
      "Length = 2000 \n",
      "Type = <class 'numpy.ndarray'>\n",
      "dvds_review\n",
      "Length = 2000 \n",
      "Type = <class 'numpy.ndarray'>\n",
      "electronics_review\n",
      "Length = 2000 \n",
      "Type = <class 'numpy.ndarray'>\n",
      "kh_review\n",
      "Length = 2000 \n",
      "Type = <class 'numpy.ndarray'>\n",
      "review_data\n",
      "Length = 8000 \n",
      "Type = <class 'numpy.ndarray'>\n",
      "[['\\n4.0\\n'\n",
      "  \"An absolutely wonderful film by Clint Eastwood. Thelonious was an amazing man. He said things on the piano that we wordsmiths aren't able to communicate. His unusual character made for an interesting subplot. This film is footage of the man himself, usually playing his music. I'm just sitting here being stunned.\"]\n",
      " ['\\n5.0\\n'\n",
      "  \"Many shows have their moments, but this is the first show I've ever laughed OUT LOUD, multiple times in one episode.  The humor is so creative and edgy and amazingly timed.  I will say that you do need to be around my age (I'm 40) to get alot of the inside jokes, but if you do their hilarious.  And if you don't there's still plenty to make you laugh.  I would HIGHLY recommend all three Volumes that are out now\"]\n",
      " ['\\n5.0\\n'\n",
      "  'I just use the keyboard like a business user. I don\\'t use the media stuff. I really like the tactile feel of the keyboard and how it works. I like that it\\'s not huge and doesn\\'t have all those extra ridiculous buttons that I never use. The rechargeable mouse is handy as well. Prior to this, I had two Microsoft wireless combos in a row, and in both cases the mouse gradually began flaking out on me. I don\\'t know if it\\'s because it\\'s Logitech or it\\'s bluetooth, but the keyboard/mouse are as responsive as were they wired (after they \"wake up\").']\n",
      " ..., \n",
      " ['\\n1.0\\n'\n",
      "  'The sound is really great, but there is one problem with this headphones they keep falling from my ears no matter what rubber caps (they come with 3 different sizes) I used. The design flaw makes them unusable for me']\n",
      " ['\\n1.0\\n'\n",
      "  'Prof. Gardner\\'s book is disappointing. He tries to be all things to all people saying both that he believes in basic competencies but wants to put inquiry first. Also, his language is inflated, and lacking in philosopical specificity. For example, he believes in building up the inner world of \"mental representations\" [unexplained term] yet insists on \"performances of understanding\" [another unexplained term]. Also, he has respect for the individual learner and individual differences, yet he is concerned about the \"position\" or \"situation\" or social class dynamics in which the learning takes place. Thus, he fails to do justice either to the individual or to class, race, or gender.  The role of leadership in learning is wholly ignored; and responsibility is not explored.  In short, it is extremely difficult to pin down Prof. Gardner. It would be kind to say he is eclectic. I hope it\\'s just not fuzzy thinking.However, we can discern that he has a romantic obsession with beauty, truth, and goodness. Imagine -- the Holocaust is reduced to being an illustration of what goodness is or is not! His treatment of these ideas is superficial and banal. I don\\'t like to be so judgmental, but his writing about them does not deserve a detailed analysis.When attacking E.D. Hirsch whom he calls the main speaker for \"cultural literacy,\" he sets up a straw man. He says that Hirsch\\'s school of thought has an underlying belief in the Lockeian \"tabula rasa.\" Yet, I find nothing in Hirsch\\'s writings to indicate that he believes in a tabula rasa. Further, is Prof. Gardner really less elitist than Hirsch as some have claimed? I have found that the Harvard elite spend their entire lives trying to achieve and learn everything, and be on top. Their lives are marked by ambition to the Nth degree; yet, he debunks time-honored and experience-honored content areas that traditionally have defined literacy at its best. Thus, I find a certain inherent dishonesty in Gardner\\'s presentation.  Believe me, friends, I have taught students who have many ideals, Greek ideals and other ideals, but know very little, nor do they aspire to learn. If they have those ideals, and if they are facile and glib, will they be the leaders of tomorrow who are embraced by Prof. Gardner?I find a tendency on Prof. Gardner\\'s part to oversimplify certain issues like the Holocaust, and to overcomplicate certain others like the nature of intelligence. The world is not waiting for the concept of intelligence to be re-written.  Am I oversimplifying when I think that there is something very awkward about saying that there is no fundamental difference in intelligence between Einstein and the custodian of my school? Is this awkwardness because I am an elitist putting down the custodian?  Is it because of lack of intelligence that I am still in the grip of a univocal definition of intelligence? I don\\'t think so. Rather, we all know we are dependent on each other, and that everybody has some unique aptitudes or gifts they can express and be respected for, but trying to elevate this understanding to a higher level of truth or intellectual significance seems to me to be illegitimate. Lastly, his writing style is a bit too fond of adjectives, and the book reads as a whole like It Takes A Village by Mrs. Clinton. The Disciplined Mind has a mellifluous style that presents itself as being highly sophisticated and, at the same time, as down-to-earth, with balanced common sense. Yet, ultimately, the book is boring.  As one Amazon reviewer states, Prof. Gardner is full of himself.  In this book, there is no straightforward discussion or emphasis placed on knowledge, justice, Judeo-Christian values, persistence, responsibility, or character development...words which I find essential for a true philosophy of education.']\n",
      " ['\\n5.0\\n'\n",
      "  'I\\'m a skeptic. No, I mean I\\'m REALLY a skeptic... especially in today\\'s marketplace (because nothing is built like it used to be). I don\\'t buy anything without checking it out first, and even then, I expect that it\\'s probably going to fail me when I do. Yeah, wonderful view there, huh?Well, needless to say, I was pleasantly (and quite happily) surprised when this device didn\\'t fail me out of the box. I\\'ve been using my speedpad for almost a year now, and I have to say that it has been by far more solid, responsive and intuitive than I ever expected it to be. I will not play a PC game without it plugged in now, that\\'s how well this gamepad has worked for me.Here are the ins and outs:1) Solid construction. As others have stated, this device feels very solid and is just generally \"sturdy as hell\". This, alone, surprised me. Not too many electronic devices are solidly made these days (not too many at all!)... so I\\'m glad to see that this one was. Belkin did an excellent job in this department.2) Software. Do yourself a favor, when you get this device home, don\\'t bother putting in the CD that comes with it. Instead, go directly to Belkin\\'s website first-thing, download the newer version of the software (which is near exactly the same as what\\'s on the CD, but updated) and install that *before* plugging in your speedpad for the first time. Do that and you\\'ll have everything updated immediately with little to no trouble at all.I\\'ve had no problems with the software for this hardware (and that\\'s generally the part I have trouble with the most). The applications (profiler and button editor) function perfectly, and macros are a snap to program. Kudos to Belkin\\'s programmers on writing the software suite for this, they did a good job.4) Sticky keys. Most people have experienced this.. myself included. Being possibly a byproduct of the solid construction of the product, basically, what happens is the keys stick just a little bit coming out of the box. Though just \"excercising\" the device (pressing the buttons down quickly and solidly over and over) for a few seconds after plugging it in each time I went to use it cleared up this issue within the first week of using the gamepad, and I\\'ve never had it happen since. 5) Other buttons. * The mouse scroll wheel can be an annoyance, and I don\\'t use it much at all because it\\'s hard to scroll up and down with it (Belkin may just have made that particular button a little *too* solid). * The orange button above the d-pad also isn\\'t that easy to press, though if you keep you pinky finger positioned on the side of the keypad for leverage, it\\'s not impossible to press this button (in fact, I use it as my default \"map\" button in most of the games I play). It\\'s perfect for those functions you use enough to need a button for but not enough to need an easy spam button.* I haven\\'t experienced any problems hitting the \\'space\\' button below the d-pad that others have experienced. My thumb taps that button as easily as it taps the space bar on a standard keyboard. My only complaint with it is that I can\\'t simply twist my thumb a bit to hit the key, I have to actually lift my thumb off the d-pad to do it - and that\\'s not much of a complaint at all, really.The d-pad itself is a godsend! I\\'m a true console gamer, having used nothing but d-pads for movement since all the time spent playing my old NES as a kid (and using a joystick before that with my even older Atari). D-pad is all I know, really. In fact, the one thing that\\'s kept me away from PC gaming all these years is I\\'ve never, ever been able to accustom myself to using arrow keys or WASD for movement (and probably never will get accustomed to that either). For the longest time I was looking for a device that could allow me to keep the sensitivity of mouse aiming (to keep up with other PC players) while giving me an actual d-pad for movement... and that is EXACTLY what this gamepad did for me. As I said at the top of this review, I will never play a PC game without my Nostromo speedpad plugged in. This gamepad has provided the one benefit that other pads haven\\'t and that I really needed - a controller interface that\\'s actually functional and intuitive enough to use that I forget I\\'m using it most of the time, allowing me to immerse myself completely in whatever game I\\'m playing... which is really the point of gaming in the first place, isn\\'t it? The Nostromo Speedpad gets 5 stars from me. I would recommend it to anyone who\\'s looking for the type of benefits I\\'ve listed. And, for that matter, I\\'m recommending it right now in fact...']]\n"
     ]
    }
   ],
   "source": [
    "#################################### Books ######################################################\n",
    "books_data = []\n",
    "file7 = open('Projectdataset/sorted_data_acl/books/negative.review', \"r\")\n",
    "file8 = open('Projectdataset/sorted_data_acl/books/positive.review', \"r\")\n",
    "\n",
    "negative = file7.read()\n",
    "positive = file8.read()\n",
    "######## books\n",
    "negative = negative.split(\"<review>\")\n",
    "positive = positive.split(\"<review>\")\n",
    "negative = negative[1:]\n",
    "positive = positive[1:]\n",
    "\n",
    "a = []\n",
    "b = []\n",
    "for neg in negative:\n",
    "    text = find_between_r( neg, \"<review_text>\", \"</review_text>\")\n",
    "    text = text.replace(\"\\n\",'')\n",
    "    rate = find_between_r( neg, \"<rating>\", \"</rating>\")\n",
    "    a.append((rate,text))\n",
    "    \n",
    "for pos in positive:\n",
    "    text = find_between_r( pos, \"<review_text>\", \"</review_text>\")\n",
    "    text = text.replace(\"\\n\",'')\n",
    "    rate = find_between_r( pos, \"<rating>\", \"</rating>\")\n",
    "    b.append((rate,text))\n",
    "\n",
    "books_data = np.concatenate((a,b) , axis = 0)\n",
    "np.random.shuffle(books_data)\n",
    "print(\"books review\")\n",
    "print('Length = {} '.format(len(books_data)))\n",
    "print('Type = {}'.format(type(books_data)))\n",
    "#print(books_data)\n",
    "\n",
    "#################################### DVDs ######################################################\n",
    "DVD_dataset= []\n",
    "file9 = open('Projectdataset/sorted_data_acl/dvd/negative.review', \"r\")\n",
    "file10 = open('Projectdataset/sorted_data_acl/dvd/positive.review', \"r\")\n",
    "negative = file9.read()\n",
    "positive = file10.read()\n",
    "\n",
    "negative = negative.split(\"<review>\")\n",
    "positive = positive.split(\"<review>\")\n",
    "negative = negative[1:]\n",
    "positive = positive[1:]\n",
    "\n",
    "a = []\n",
    "b = []\n",
    "for neg in negative:\n",
    "    text = find_between_r( neg, \"<review_text>\", \"</review_text>\")\n",
    "    text = text.replace(\"\\n\",'')\n",
    "    rate = find_between_r( neg, \"<rating>\", \"</rating>\")\n",
    "    a.append((rate,text))\n",
    "    \n",
    "for pos in positive:\n",
    "    text = find_between_r( pos, \"<review_text>\", \"</review_text>\")\n",
    "    text = text.replace(\"\\n\",'')\n",
    "    rate = find_between_r( pos, \"<rating>\", \"</rating>\")\n",
    "    b.append((rate,text))\n",
    "\n",
    "\n",
    "DVD_dataset = np.concatenate((a,b) , axis = 0)\n",
    "np.random.shuffle(DVD_dataset)\n",
    "print(\"dvds_review\")\n",
    "print('Length = {} '.format(len(DVD_dataset)))\n",
    "print('Type = {}'.format(type(DVD_dataset)))\n",
    "#print(DVD_dataset)\n",
    "\n",
    "#################################### Electronics ######################################################\n",
    "electronics_data = []\n",
    "file11 = open('Projectdataset/sorted_data_acl/electronics/negative.review', \"r\")\n",
    "file12 = open('Projectdataset/sorted_data_acl/electronics/positive.review', \"r\")\n",
    "\n",
    "negative = file11.read()\n",
    "positive = file12.read()\n",
    "\n",
    "negative = negative.split(\"<review>\")\n",
    "positive = positive.split(\"<review>\")\n",
    "negative = negative[1:]\n",
    "positive = positive[1:]\n",
    "\n",
    "a = []\n",
    "b = []\n",
    "for neg in negative:\n",
    "    text = find_between_r( neg, \"<review_text>\", \"</review_text>\")\n",
    "    text = text.replace(\"\\n\",'')\n",
    "    rate = find_between_r( neg, \"<rating>\", \"</rating>\")\n",
    "    a.append((rate,text))\n",
    "    \n",
    "for pos in positive:\n",
    "    text = find_between_r( pos, \"<review_text>\", \"</review_text>\")\n",
    "    text = text.replace(\"\\n\",'')\n",
    "    rate = find_between_r( pos, \"<rating>\", \"</rating>\")\n",
    "    b.append((rate,text))\n",
    "\n",
    "electronics_data = np.concatenate((a,b) , axis = 0)\n",
    "np.random.shuffle(electronics_data)\n",
    "print(\"electronics_review\")\n",
    "print('Length = {} '.format(len(electronics_data)))\n",
    "print('Type = {}'.format(type(electronics_data)))\n",
    "#print(electronics_data)\n",
    "########################################## kitchen_&_housewares ##############################################\n",
    "kh_dataset = []\n",
    "file13 = open('Projectdataset/sorted_data_acl/kitchen_&_housewares/negative.review', \"r\")\n",
    "file14 = open('Projectdataset/sorted_data_acl/kitchen_&_housewares/positive.review', \"r\")\n",
    "\n",
    "negative = file13.read()\n",
    "positive = file14.read()\n",
    "\n",
    "negative = negative.split(\"<review>\")\n",
    "positive = positive.split(\"<review>\")\n",
    "negative = negative[1:]\n",
    "positive = positive[1:]\n",
    "\n",
    "a = []\n",
    "b = []\n",
    "for neg in negative:\n",
    "    text = find_between_r( neg, \"<review_text>\", \"</review_text>\")\n",
    "    text = text.replace(\"\\n\",'')\n",
    "    rate = find_between_r( neg, \"<rating>\", \"</rating>\")\n",
    "    a.append((rate,text))\n",
    "    \n",
    "for pos in positive:\n",
    "    text = find_between_r( pos, \"<review_text>\", \"</review_text>\")\n",
    "    text = text.replace(\"\\n\",'')\n",
    "    rate = find_between_r( pos, \"<rating>\", \"</rating>\")\n",
    "    b.append((rate,text))\n",
    "\n",
    "kh_dataset = np.concatenate((a,b) , axis = 0)\n",
    "np.random.shuffle(kh_dataset)\n",
    "print(\"kh_review\")\n",
    "print('Length = {} '.format(len(kh_dataset)))\n",
    "print('Type = {}'.format(type(kh_dataset)))\n",
    "\n",
    "review_data = np.concatenate((books_data,DVD_dataset,electronics_data,kh_dataset))\n",
    "np.random.shuffle(review_data)\n",
    "print(\"review_data\")\n",
    "print('Length = {} '.format(len(review_data)))\n",
    "print('Type = {}'.format(type(review_data)))\n",
    "print(review_data)"
   ]
  },
  {
   "cell_type": "markdown",
   "metadata": {},
   "source": [
    "** Combine data **"
   ]
  },
  {
   "cell_type": "code",
   "execution_count": null,
   "metadata": {
    "collapsed": true
   },
   "outputs": [],
   "source": []
  },
  {
   "cell_type": "markdown",
   "metadata": {},
   "source": [
    "# Binary Classification\n",
    "** feature extraction **"
   ]
  },
  {
   "cell_type": "code",
   "execution_count": 57,
   "metadata": {
    "collapsed": false
   },
   "outputs": [
    {
     "name": "stdout",
     "output_type": "stream",
     "text": [
      "train on 1500 instances, test on 500 instances\n",
      "accuracy: 0.728\n",
      "Most Informative Features\n",
      "             magnificent = True              pos : neg    =     15.0 : 1.0\n",
      "             outstanding = True              pos : neg    =     13.6 : 1.0\n",
      "               insulting = True              neg : pos    =     13.0 : 1.0\n",
      "              vulnerable = True              pos : neg    =     12.3 : 1.0\n",
      "               ludicrous = True              neg : pos    =     11.8 : 1.0\n",
      "                  avoids = True              pos : neg    =     11.7 : 1.0\n",
      "             uninvolving = True              neg : pos    =     11.7 : 1.0\n",
      "             fascination = True              pos : neg    =     10.3 : 1.0\n",
      "              astounding = True              pos : neg    =     10.3 : 1.0\n",
      "                 idiotic = True              neg : pos    =      9.8 : 1.0\n"
     ]
    }
   ],
   "source": [
    "def word_feats(words):\n",
    "        return dict([(word, True) for word in words])\n",
    "    \n",
    "negids = movie_reviews.fileids('neg')\n",
    "posids = movie_reviews.fileids('pos')\n",
    " \n",
    "negfeats = [(word_feats(movie_reviews.words(fileids=[f])), 'neg') for f in negids]\n",
    "posfeats = [(word_feats(movie_reviews.words(fileids=[f])), 'pos') for f in posids]\n",
    "\n",
    "negcutoff = int(len(negfeats)*3/4)\n",
    "poscutoff = int(len(posfeats)*3/4)\n",
    "\n",
    "trainfeats = negfeats[:negcutoff] + posfeats[:poscutoff]\n",
    "testfeats = negfeats[negcutoff:] + posfeats[poscutoff:]\n",
    "print('train on %d instances, test on %d instances' % (len(trainfeats), len(testfeats)))\n",
    " \n",
    "classifier = NaiveBayesClassifier.train(trainfeats)\n",
    "print('accuracy:', nltk.classify.util.accuracy(classifier, testfeats))\n",
    "classifier.show_most_informative_features()"
   ]
  },
  {
   "cell_type": "code",
   "execution_count": 58,
   "metadata": {
    "collapsed": false
   },
   "outputs": [
    {
     "ename": "AttributeError",
     "evalue": "'NaiveBayesClassifier' object has no attribute 'predict'",
     "output_type": "error",
     "traceback": [
      "\u001b[1;31m---------------------------------------------------------------------------\u001b[0m",
      "\u001b[1;31mAttributeError\u001b[0m                            Traceback (most recent call last)",
      "\u001b[1;32m<ipython-input-58-9df0c8f0995d>\u001b[0m in \u001b[0;36m<module>\u001b[1;34m()\u001b[0m\n\u001b[1;32m----> 1\u001b[1;33m \u001b[0mprint\u001b[0m\u001b[1;33m(\u001b[0m\u001b[0mclassifier\u001b[0m\u001b[1;33m.\u001b[0m\u001b[0mpredict\u001b[0m\u001b[1;33m(\u001b[0m\u001b[1;33m[\u001b[0m\u001b[1;34m\"I am happy to be here\"\u001b[0m\u001b[1;33m]\u001b[0m\u001b[1;33m)\u001b[0m\u001b[1;33m)\u001b[0m\u001b[1;33m\u001b[0m\u001b[0m\n\u001b[0m",
      "\u001b[1;31mAttributeError\u001b[0m: 'NaiveBayesClassifier' object has no attribute 'predict'"
     ]
    }
   ],
   "source": []
  },
  {
   "cell_type": "code",
   "execution_count": null,
   "metadata": {
    "collapsed": true
   },
   "outputs": [],
   "source": []
  },
  {
   "cell_type": "markdown",
   "metadata": {
    "collapsed": false,
    "scrolled": true
   },
   "source": [
    "# Feature Extraction\n",
    "** Bag of Words Feature Extraction ** \n",
    "\n",
    "\n",
    "\n",
    "\n"
   ]
  },
  {
   "cell_type": "code",
   "execution_count": 151,
   "metadata": {
    "collapsed": false
   },
   "outputs": [
    {
     "name": "stdout",
     "output_type": "stream",
     "text": [
      "Dataset =Polarity Dataset\n",
      "Length = 10662\n",
      "bow = (10662, 300)\n",
      "Y = (10662,)\n",
      "Dataset =Amazon Dataset\n",
      "Length = 8000\n",
      "bow = (8000, 300)\n",
      "Y = (8000,)\n",
      "Dataset =SAT dataset\n",
      "Length = 8000\n",
      "bow = (8000, 300)\n",
      "Y = (8000,)\n",
      "Dataset =Trip Advisor\n",
      "Length = 9000\n",
      "bow = (9000, 300)\n",
      "Y = (9000,)\n",
      "Dataset =Items\n",
      "Length = 8000\n",
      "bow = (8000, 300)\n",
      "Y = (8000,)\n"
     ]
    }
   ],
   "source": [
    "def column(matrix, i):\n",
    "    return [row[i] for row in matrix]\n",
    "def compute_bag_of_words(text, nwords):\n",
    "    vectorizer = CountVectorizer(max_features=nwords)\n",
    "    vectors = vectorizer.fit_transform(text)\n",
    "    vocabulary = vectorizer.get_feature_names()\n",
    "    return vectors, vocabulary\n",
    "\n",
    "nwords = 300 # number of words to represent text\n",
    "\n",
    "# all datasets texts\n",
    "text_polarity = column(polarity_data,1)\n",
    "text_amazon = column(Amazon_data,1)\n",
    "text_sat = column(SAT_data,1)\n",
    "text_trip = column(tripAdvisor_data1,1)\n",
    "text_items = column(review_data,1)\n",
    "# all datasets ratings\n",
    "Y_polarity = np.asarray(column(polarity_data,0))\n",
    "Y_amazon = np.asarray(column(Amazon_data,0))\n",
    "Y_sat = np.asarray(column(SAT_data,0))\n",
    "Y_trip = np.asarray(column(tripAdvisor_data1,0))\n",
    "Y_items = np.asarray(column(review_data,0))\n",
    "\n",
    "names = [\"Polarity Dataset\",\"Amazon Dataset\",\"SAT dataset\",\"Trip Advisor\",\"Items\"]\n",
    "texts = [text_polarity,text_amazon,text_sat,text_trip,text_items]\n",
    "Ys = [Y_polarity , Y_amazon, Y_sat, Y_trip, Y_items]\n",
    "stop_words = set(stopwords.words('english'))\n",
    "\n",
    "filtered_data =[]\n",
    "bows = []\n",
    "i = 0\n",
    "\n",
    "for textset in texts:\n",
    "    filtered=[];\n",
    "    for item in textset:\n",
    "        words = word_tokenize(item)\n",
    "        words =[word.lower() for word in words]\n",
    "        filtered_item=[];\n",
    "        for w in words:\n",
    "            if w not in stop_words:\n",
    "                filtered_item.append(w)\n",
    "        result = ' '.join(filtered_item)\n",
    "        filtered.append(result)\n",
    "    bow, vocab = compute_bag_of_words(filtered, nwords)\n",
    "    bows.append(bow)\n",
    "    print(\"Dataset ={}\".format(names[i]))\n",
    "    print(\"Length = {}\".format(len(filtered))) \n",
    "    print(\"bow = {}\".format(bow.shape))\n",
    "    print(\"Y = {}\".format(Ys[i].shape))\n",
    "    filtered_data.append(filtered)\n",
    "    i += 1\n"
   ]
  },
  {
   "cell_type": "markdown",
   "metadata": {},
   "source": [
    "# Dividing into Training data and Testing data"
   ]
  },
  {
   "cell_type": "code",
   "execution_count": 152,
   "metadata": {
    "collapsed": false
   },
   "outputs": [
    {
     "name": "stdout",
     "output_type": "stream",
     "text": [
      "7997\n",
      "6000\n",
      "6000\n",
      "6750\n",
      "6000\n"
     ]
    }
   ],
   "source": [
    "#####polarity\n",
    "\n",
    "\n",
    "X_trains = []\n",
    "X_tests = []\n",
    "Y_trains = []\n",
    "Y_tests = []\n",
    "i = 0\n",
    "for textset in texts:\n",
    "    cutoff = math.ceil(len(Ys[i])*0.75)\n",
    "    print(cutoff)\n",
    "    X_trains.append(bows[i][0:cutoff])\n",
    "    X_tests.append(bows[i][cutoff:])\n",
    "    Y_trains.append(Ys[i][0:cutoff])\n",
    "    Y_tests.append(Ys[i][cutoff:])\n",
    "    #display(\"X_train: {}\".format(X_trains[i].shape))\n",
    "    #display(\"X_test: {}\".format(X_tests[i].shape))\n",
    "    #display(\"Y_train: {}\".format(Y_trains[i].shape))\n",
    "    #display(\"Y_test: {}\".format(Y_tests[i].shape))\n",
    "    #display(type(X_tests[i]))\n",
    "    #display(type(Y_trains[i]))\n",
    "    #display((X_tests[i]))\n",
    "    #display((Y_trains[i]))\n",
    "    i+=1\n"
   ]
  },
  {
   "cell_type": "markdown",
   "metadata": {},
   "source": [
    "# Classifiers and using the right one"
   ]
  },
  {
   "cell_type": "code",
   "execution_count": 153,
   "metadata": {
    "collapsed": false
   },
   "outputs": [
    {
     "name": "stdout",
     "output_type": "stream",
     "text": [
      "Dataset = Polarity Dataset\n",
      "Classifier:          K-nn\n",
      "Train accuracy:      70.70\n",
      "Test accuracy:       55.68\n",
      "Classifier:          SVM\n",
      "Train accuracy:      68.06\n",
      "Test accuracy:       66.00\n",
      "Classifier:          linear Regression\n",
      "Train accuracy:      68.16\n",
      "Test accuracy:       66.00\n",
      "Classifier:          Random Forest\n",
      "Train accuracy:      91.78\n",
      "Test accuracy:       60.38\n",
      "Classifier:          RidgeClassifier\n",
      "Train accuracy:      68.19\n",
      "Test accuracy:       65.85\n",
      "Classifier:          Bernoulli\n",
      "Train accuracy:      67.84\n",
      "Test accuracy:       64.99\n",
      "Classifier:          MultiNB\n",
      "Train accuracy:      67.81\n",
      "Test accuracy:       64.95\n",
      "Dataset = Amazon Dataset\n",
      "Classifier:          K-nn\n",
      "Train accuracy:      60.75\n",
      "Test accuracy:       42.90\n",
      "Classifier:          SVM\n",
      "Train accuracy:      60.27\n",
      "Test accuracy:       54.90\n",
      "Classifier:          linear Regression\n",
      "Train accuracy:      60.85\n",
      "Test accuracy:       54.20\n",
      "Classifier:          Random Forest\n",
      "Train accuracy:      99.15\n",
      "Test accuracy:       45.60\n",
      "Classifier:          RidgeClassifier\n",
      "Train accuracy:      56.73\n",
      "Test accuracy:       52.90\n",
      "Classifier:          Bernoulli\n",
      "Train accuracy:      44.87\n",
      "Test accuracy:       42.25\n",
      "Classifier:          MultiNB\n",
      "Train accuracy:      56.37\n",
      "Test accuracy:       52.95\n",
      "Dataset = SAT dataset\n",
      "Classifier:          K-nn\n",
      "Train accuracy:      78.72\n",
      "Test accuracy:       57.65\n",
      "Classifier:          SVM\n",
      "Train accuracy:      79.12\n",
      "Test accuracy:       68.50\n",
      "Classifier:          linear Regression\n",
      "Train accuracy:      78.73\n",
      "Test accuracy:       64.75\n",
      "Classifier:          Random Forest\n",
      "Train accuracy:      91.60\n",
      "Test accuracy:       63.15\n",
      "Classifier:          RidgeClassifier\n",
      "Train accuracy:      78.37\n",
      "Test accuracy:       66.40\n",
      "Classifier:          Bernoulli\n",
      "Train accuracy:      77.97\n",
      "Test accuracy:       69.40\n",
      "Classifier:          MultiNB\n",
      "Train accuracy:      77.92\n",
      "Test accuracy:       70.10\n",
      "Dataset = Trip Advisor\n",
      "Classifier:          K-nn\n",
      "Train accuracy:      45.79\n",
      "Test accuracy:       20.22\n",
      "Classifier:          SVM\n",
      "Train accuracy:      41.17\n",
      "Test accuracy:       28.31\n",
      "Classifier:          linear Regression\n",
      "Train accuracy:      41.59\n",
      "Test accuracy:       28.13\n",
      "Classifier:          Random Forest\n",
      "Train accuracy:      98.44\n",
      "Test accuracy:       23.29\n",
      "Classifier:          RidgeClassifier\n",
      "Train accuracy:      38.06\n",
      "Test accuracy:       28.40\n",
      "Classifier:          Bernoulli\n",
      "Train accuracy:      30.76\n",
      "Test accuracy:       23.78\n",
      "Classifier:          MultiNB\n",
      "Train accuracy:      35.38\n",
      "Test accuracy:       27.07\n",
      "Dataset = Items\n",
      "Classifier:          K-nn\n",
      "Train accuracy:      60.97\n",
      "Test accuracy:       39.75\n",
      "Classifier:          SVM\n",
      "Train accuracy:      58.75\n",
      "Test accuracy:       52.20\n",
      "Classifier:          linear Regression\n",
      "Train accuracy:      59.10\n",
      "Test accuracy:       51.15\n",
      "Classifier:          Random Forest\n",
      "Train accuracy:      98.47\n",
      "Test accuracy:       45.65\n",
      "Classifier:          RidgeClassifier\n",
      "Train accuracy:      57.80\n",
      "Test accuracy:       51.50\n",
      "Classifier:          Bernoulli\n",
      "Train accuracy:      51.70\n",
      "Test accuracy:       48.45\n",
      "Classifier:          MultiNB\n",
      "Train accuracy:      56.00\n",
      "Test accuracy:       50.90\n"
     ]
    }
   ],
   "source": [
    "\n",
    "# The different classifiers\n",
    "clf, train_accuracy, test_accuracy, exec_time = [], [], [], []\n",
    "clf.append(sklearn.neighbors.KNeighborsClassifier()) # k-NN classifier\n",
    "clf.append(sklearn.svm.LinearSVC()) # linear SVM classifier\n",
    "clf.append(sklearn.linear_model.LogisticRegression()) # logistic classifier\n",
    "clf.append(sklearn.ensemble.RandomForestClassifier())\n",
    "clf.append(sklearn.linear_model.RidgeClassifier())\n",
    "clf.append(sklearn.naive_bayes.BernoulliNB())\n",
    "clf.append(sklearn.naive_bayes.MultinomialNB())\n",
    "\n",
    "\n",
    "train_accuracies = []\n",
    "test_accuracies = []\n",
    "\n",
    "\n",
    "# train on different datasets \n",
    "for i in range (0,len(names)):\n",
    "    print(\"Dataset = {}\".format(names[i]))\n",
    "    classifier = ['KNN','SVM','Log-R','RanF', 'RC','B','MultiNB']\n",
    "    j = 0\n",
    "    train_accuracy = []\n",
    "    test_accuracy = []\n",
    "    for c in clf:\n",
    "        #t_start = time.process_time()\n",
    "        c.fit(X_trains[i], Y_trains[i])\n",
    "        train_pred = c.predict(X_trains[i])\n",
    "        test_pred = c.predict(X_tests[i])\n",
    "        train_accuracy .append( '{:5.2f}'.format(100*sklearn.metrics.accuracy_score(Y_trains[i], train_pred)) )\n",
    "        test_accuracy .append( '{:5.2f}'.format(100*sklearn.metrics.accuracy_score(Y_tests[i], test_pred)) )\n",
    "        #exec_time.append('{:5.2f}'.format(time.process_time() - t_start))\n",
    "        print('Classifier:          {}'.format(classifier[j]))\n",
    "        print('Train accuracy:      {}'.format(train_accuracy[j]))\n",
    "        print('Test accuracy:       {}'.format(test_accuracy[j]))\n",
    "        j+=1\n",
    "        #print('Execution time:      {}'.format(exec_time))\n",
    "    train_accuracies.append(train_accuracy)\n",
    "    test_accuracies.append(test_accuracy)"
   ]
  },
  {
   "cell_type": "code",
   "execution_count": 195,
   "metadata": {
    "collapsed": false
   },
   "outputs": [
    {
     "data": {
      "text/plain": [
       "'Dataset: Polarity Dataset '"
      ]
     },
     "metadata": {},
     "output_type": "display_data"
    },
    {
     "data": {
      "text/plain": [
       "'best test accuracy = 66.00  for = SVM'"
      ]
     },
     "metadata": {},
     "output_type": "display_data"
    },
    {
     "data": {
      "text/plain": [
       "'Dataset: Amazon Dataset '"
      ]
     },
     "metadata": {},
     "output_type": "display_data"
    },
    {
     "data": {
      "text/plain": [
       "'best test accuracy = 54.90  for = SVM'"
      ]
     },
     "metadata": {},
     "output_type": "display_data"
    },
    {
     "data": {
      "text/plain": [
       "'Dataset: SAT dataset '"
      ]
     },
     "metadata": {},
     "output_type": "display_data"
    },
    {
     "data": {
      "text/plain": [
       "'best test accuracy = 70.10  for = MultiNB'"
      ]
     },
     "metadata": {},
     "output_type": "display_data"
    },
    {
     "data": {
      "text/plain": [
       "'Dataset: Trip Advisor '"
      ]
     },
     "metadata": {},
     "output_type": "display_data"
    },
    {
     "data": {
      "text/plain": [
       "'best test accuracy = 28.40  for = RC'"
      ]
     },
     "metadata": {},
     "output_type": "display_data"
    },
    {
     "data": {
      "text/plain": [
       "'Dataset: Items '"
      ]
     },
     "metadata": {},
     "output_type": "display_data"
    },
    {
     "data": {
      "text/plain": [
       "'best test accuracy = 52.20  for = SVM'"
      ]
     },
     "metadata": {},
     "output_type": "display_data"
    },
    {
     "data": {
      "application/pdf": "[encoded data removed]",
      "image/png": "[encoded data removed]",
      "text/plain": [
       "<matplotlib.figure.Figure at 0x1a307f467f0>"
      ]
     },
     "metadata": {
      "image/png": {
       "height": 503,
       "width": 908
      }
     },
     "output_type": "display_data"
    }
   ],
   "source": [
    "x =[0,1,2,3,4,5,6]\n",
    "classifier = ['KNN','SVM','Log-R','RanF', 'RC','B','MultiNB']\n",
    "Leg = [\"training\",\"test\"]\n",
    "n = 5\n",
    "fig, axes = plt.subplots(2, 3, squeeze=True, figsize=(15, 8))\n",
    "for i in range(n):\n",
    "    axes[i//3,i%3].set_xticks(x)\n",
    "    axes[i//3,i%3].set_xticklabels(classifier, fontdict=None, minor=False)\n",
    "    axes[i//3,i%3].plot(x,train_accuracies[i],\"r--\",x,test_accuracies[i],\"b--\")\n",
    "    axes[i//3,i%3].set_title(names[i])\n",
    "    axes[i//3,i%3].set_ylabel(\"accuracy\")\n",
    "    axes[i//3,i%3].set_xlabel(\"Classifier\")\n",
    "    axes[i//3,i%3].legend(Leg)\n",
    "\n",
    "for i in range(n):  \n",
    "    display(\"Dataset: {} \".format(names[i]))\n",
    "    value = max(test_accuracies[i])\n",
    "    index = test_accuracies[i].index(value)\n",
    "    display(\"best test accuracy = {}  for = {}\".format(value,classifier[index]))\n",
    "    \n",
    "    \n",
    "#plt.xticks(x,classifier)#,names,knn_test,\"b--\")\n",
    "#plt.plot(x,train_accuracies[0],\"r--\",x,test_accuracies[0],\"b--\")\n",
    "\n",
    "\n",
    "\n",
    "#plt.show()"
   ]
  },
  {
   "cell_type": "markdown",
   "metadata": {},
   "source": [
    "** N-FOLDS **"
   ]
  },
  {
   "cell_type": "code",
   "execution_count": 46,
   "metadata": {
    "collapsed": false
   },
   "outputs": [
    {
     "name": "stdout",
     "output_type": "stream",
     "text": [
      "[[ 0.53444444  0.535       0.53444444  0.535       0.53611111  0.53055556\n",
      "   0.54        0.53277778  0.52888889  0.47555556  0.43722222  0.43833333\n",
      "   0.445       0.35222222]\n",
      " [ 0.56055556  0.55777778  0.56055556  0.55777778  0.55833333  0.56\n",
      "   0.55833333  0.54833333  0.54555556  0.44722222  0.48833333  0.40166667\n",
      "   0.49166667  0.43944444]\n",
      " [ 0.55333333  0.55        0.55333333  0.55        0.55111111  0.55222222\n",
      "   0.55444444  0.54611111  0.53611111  0.49944444  0.46166667  0.37166667\n",
      "   0.45722222  0.43388889]\n",
      " [ 0.56277778  0.56055556  0.56277778  0.56055556  0.56        0.55888889\n",
      "   0.56        0.54833333  0.55277778  0.51944444  0.50111111  0.40222222\n",
      "   0.43333333  0.39611111]\n",
      " [ 0.53444444  0.53333333  0.53444444  0.53444444  0.53388889  0.53888889\n",
      "   0.53388889  0.52111111  0.515       0.44833333  0.42333333  0.35444444\n",
      "   0.45        0.41944444]]\n"
     ]
    }
   ],
   "source": [
    "num_folds = 5 \n",
    "X_train = X_train.toarray() # for np.array_split\n",
    "\n",
    "X_train_folds = np.array_split(X_train, num_folds)\n",
    "y_train_folds = np.array_split(Y_train, num_folds)\n",
    "\n",
    "#print(X_train_folds[0][1])\n",
    "\n",
    "C_choices = [1e-2, 5*1e-2,1e-2, 5*1e-2, 1e-1, 5*1e-1, 1e0, 5*1e0, 1e1, 5*1e1, 1e2, 5*1e2, 1e3, 5*1e3]\n",
    "num_Cs = len(C_choices)\n",
    "\n",
    "accuracy_tab = np.zeros([num_folds,num_Cs])\n",
    "for C_idx, C_value in enumerate(C_choices):\n",
    "\n",
    "    for fold_idx in range(num_folds):\n",
    "        \n",
    "        # Extract train dataset for the current fold\n",
    "        fold_x_train = np.concatenate([X_train_folds[i] for i in range(num_folds) if i!=fold_idx])       \n",
    "        fold_y_train = np.concatenate([y_train_folds[i] for i in range(num_folds) if i!=fold_idx])   \n",
    "\n",
    "        # validation dataset for the current fold\n",
    "        fold_x_val  = X_train_folds[fold_idx]\n",
    "        fold_y_val  = y_train_folds[fold_idx]\n",
    "        \n",
    "        # Run Logistic Regression model for the current fold\n",
    "        model = sklearn.svm.LinearSVC(C=C_value)\n",
    "        model.fit(fold_x_train, fold_y_train)\n",
    "        test_pred = model.predict(fold_x_val)\n",
    "        accuracy = sklearn.metrics.accuracy_score(test_pred, fold_y_val)\n",
    "        \n",
    "        # Store accuracy value\n",
    "        accuracy_tab[fold_idx,C_idx] = accuracy\n",
    "\n",
    "print(accuracy_tab)"
   ]
  },
  {
   "cell_type": "code",
   "execution_count": 33,
   "metadata": {
    "collapsed": false
   },
   "outputs": [],
   "source": [
    "# plot the raw observations\n",
    "for C_idx, C_value in enumerate(C_choices):\n",
    "    accuracies_C_idx = accuracy_tab[:,C_idx]\n",
    "    plt.scatter([np.log(C_value)]* len(accuracies_C_idx), accuracies_C_idx)\n",
    "    \n",
    "# plot the trend line with error bars that correspond to standard deviation\n",
    "accuracies_mean = np.mean(accuracy_tab,axis=0)\n",
    "accuracies_std = np.std(accuracy_tab,axis=0)\n",
    "plt.errorbar(np.log(C_choices), accuracies_mean, yerr=accuracies_std)\n",
    "\n",
    "# Add text\n",
    "plt.title('Cross-validation on C')\n",
    "plt.xlabel('log C')\n",
    "plt.ylabel('Cross-validation accuracy')\n",
    "\n",
    "plt.show()"
   ]
  },
  {
   "cell_type": "code",
   "execution_count": 47,
   "metadata": {
    "collapsed": false
   },
   "outputs": [
    {
     "name": "stdout",
     "output_type": "stream",
     "text": [
      "best accuracy= 0.557333333333\n",
      "best C = 0.1\n"
     ]
    }
   ],
   "source": [
    "idx_best_C = np.argmax(accuracies_mean)\n",
    "best_C = C_choices[idx_best_C]\n",
    "model = sklearn.linear_model.LogisticRegression(C=best_C)\n",
    "model.fit(X_train, Y_train)\n",
    "test_pred = model.predict(X_test)\n",
    "accuracy_testset = sklearn.metrics.accuracy_score(test_pred, Y_test)\n",
    "print('best accuracy=',accuracy_testset)\n",
    "print('best C =',best_C)"
   ]
  },
  {
   "cell_type": "markdown",
   "metadata": {},
   "source": [
    "# Classifiers and using the right one"
   ]
  },
  {
   "cell_type": "code",
   "execution_count": 162,
   "metadata": {
    "collapsed": false
   },
   "outputs": [
    {
     "ename": "ValueError",
     "evalue": "kd_tree does not work with sparse matrices. Densify the data, or set algorithm='brute'",
     "output_type": "error",
     "traceback": [
      "\u001b[1;31m---------------------------------------------------------------------------\u001b[0m",
      "\u001b[1;31mValueError\u001b[0m                                Traceback (most recent call last)",
      "\u001b[1;32m<ipython-input-162-3eb4337908e3>\u001b[0m in \u001b[0;36m<module>\u001b[1;34m()\u001b[0m\n\u001b[0;32m     14\u001b[0m     \u001b[0mc\u001b[0m\u001b[1;33m.\u001b[0m\u001b[0mfit\u001b[0m\u001b[1;33m(\u001b[0m\u001b[0mX_train\u001b[0m\u001b[1;33m,\u001b[0m \u001b[0mY_train\u001b[0m\u001b[1;33m)\u001b[0m\u001b[1;33m\u001b[0m\u001b[0m\n\u001b[0;32m     15\u001b[0m     \u001b[0mtrain_pred\u001b[0m \u001b[1;33m=\u001b[0m \u001b[0mc\u001b[0m\u001b[1;33m.\u001b[0m\u001b[0mpredict\u001b[0m\u001b[1;33m(\u001b[0m\u001b[0mX_train\u001b[0m\u001b[1;33m)\u001b[0m\u001b[1;33m\u001b[0m\u001b[0m\n\u001b[1;32m---> 16\u001b[1;33m     \u001b[0mtest_pred\u001b[0m \u001b[1;33m=\u001b[0m \u001b[0mc\u001b[0m\u001b[1;33m.\u001b[0m\u001b[0mpredict\u001b[0m\u001b[1;33m(\u001b[0m\u001b[0mX_test\u001b[0m\u001b[1;33m)\u001b[0m\u001b[1;33m\u001b[0m\u001b[0m\n\u001b[0m\u001b[0;32m     17\u001b[0m     \u001b[0mtrain_accuracy\u001b[0m \u001b[1;33m=\u001b[0m \u001b[1;34m'{:5.2f}'\u001b[0m\u001b[1;33m.\u001b[0m\u001b[0mformat\u001b[0m\u001b[1;33m(\u001b[0m\u001b[1;36m100\u001b[0m\u001b[1;33m*\u001b[0m\u001b[0msklearn\u001b[0m\u001b[1;33m.\u001b[0m\u001b[0mmetrics\u001b[0m\u001b[1;33m.\u001b[0m\u001b[0maccuracy_score\u001b[0m\u001b[1;33m(\u001b[0m\u001b[0mY_train\u001b[0m\u001b[1;33m,\u001b[0m \u001b[0mtrain_pred\u001b[0m\u001b[1;33m)\u001b[0m\u001b[1;33m)\u001b[0m\u001b[1;33m\u001b[0m\u001b[0m\n\u001b[0;32m     18\u001b[0m     \u001b[0mtest_accuracy\u001b[0m \u001b[1;33m=\u001b[0m \u001b[1;34m'{:5.2f}'\u001b[0m\u001b[1;33m.\u001b[0m\u001b[0mformat\u001b[0m\u001b[1;33m(\u001b[0m\u001b[1;36m100\u001b[0m\u001b[1;33m*\u001b[0m\u001b[0msklearn\u001b[0m\u001b[1;33m.\u001b[0m\u001b[0mmetrics\u001b[0m\u001b[1;33m.\u001b[0m\u001b[0maccuracy_score\u001b[0m\u001b[1;33m(\u001b[0m\u001b[0mY_test\u001b[0m\u001b[1;33m,\u001b[0m \u001b[0mtest_pred\u001b[0m\u001b[1;33m)\u001b[0m\u001b[1;33m)\u001b[0m\u001b[1;33m\u001b[0m\u001b[0m\n",
      "\u001b[1;32mC:\\Users\\pc\\Anaconda3\\lib\\site-packages\\sklearn\\neighbors\\classification.py\u001b[0m in \u001b[0;36mpredict\u001b[1;34m(self, X)\u001b[0m\n\u001b[0;32m    145\u001b[0m         \u001b[0mX\u001b[0m \u001b[1;33m=\u001b[0m \u001b[0mcheck_array\u001b[0m\u001b[1;33m(\u001b[0m\u001b[0mX\u001b[0m\u001b[1;33m,\u001b[0m \u001b[0maccept_sparse\u001b[0m\u001b[1;33m=\u001b[0m\u001b[1;34m'csr'\u001b[0m\u001b[1;33m)\u001b[0m\u001b[1;33m\u001b[0m\u001b[0m\n\u001b[0;32m    146\u001b[0m \u001b[1;33m\u001b[0m\u001b[0m\n\u001b[1;32m--> 147\u001b[1;33m         \u001b[0mneigh_dist\u001b[0m\u001b[1;33m,\u001b[0m \u001b[0mneigh_ind\u001b[0m \u001b[1;33m=\u001b[0m \u001b[0mself\u001b[0m\u001b[1;33m.\u001b[0m\u001b[0mkneighbors\u001b[0m\u001b[1;33m(\u001b[0m\u001b[0mX\u001b[0m\u001b[1;33m)\u001b[0m\u001b[1;33m\u001b[0m\u001b[0m\n\u001b[0m\u001b[0;32m    148\u001b[0m \u001b[1;33m\u001b[0m\u001b[0m\n\u001b[0;32m    149\u001b[0m         \u001b[0mclasses_\u001b[0m \u001b[1;33m=\u001b[0m \u001b[0mself\u001b[0m\u001b[1;33m.\u001b[0m\u001b[0mclasses_\u001b[0m\u001b[1;33m\u001b[0m\u001b[0m\n",
      "\u001b[1;32mC:\\Users\\pc\\Anaconda3\\lib\\site-packages\\sklearn\\neighbors\\base.py\u001b[0m in \u001b[0;36mkneighbors\u001b[1;34m(self, X, n_neighbors, return_distance)\u001b[0m\n\u001b[0;32m    393\u001b[0m                 raise ValueError(\n\u001b[0;32m    394\u001b[0m                     \u001b[1;34m\"%s does not work with sparse matrices. Densify the data, \"\u001b[0m\u001b[1;33m\u001b[0m\u001b[0m\n\u001b[1;32m--> 395\u001b[1;33m                     \"or set algorithm='brute'\" % self._fit_method)\n\u001b[0m\u001b[0;32m    396\u001b[0m             result = Parallel(n_jobs, backend='threading')(\n\u001b[0;32m    397\u001b[0m                 delayed(self._tree.query, check_pickle=False)(\n",
      "\u001b[1;31mValueError\u001b[0m: kd_tree does not work with sparse matrices. Densify the data, or set algorithm='brute'"
     ]
    }
   ],
   "source": []
  }
 ],
 "metadata": {
  "kernelspec": {
   "display_name": "Python [Root]",
   "language": "python",
   "name": "Python [Root]"
  },
  "language_info": {
   "codemirror_mode": {
    "name": "ipython",
    "version": 3
   },
   "file_extension": ".py",
   "mimetype": "text/x-python",
   "name": "python",
   "nbconvert_exporter": "python",
   "pygments_lexer": "ipython3",
   "version": "3.5.2"
  }
 },
 "nbformat": 4,
 "nbformat_minor": 0
}
