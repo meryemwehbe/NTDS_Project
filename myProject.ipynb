{
 "cells": [
  {
   "cell_type": "markdown",
   "metadata": {},
   "source": [
    "# Imports :"
   ]
  },
  {
   "cell_type": "code",
   "execution_count": 2,
   "metadata": {
    "collapsed": false
   },
   "outputs": [
    {
     "name": "stdout",
     "output_type": "stream",
     "text": [
      "[nltk_data] Downloading package stopwords to\n",
      "[nltk_data]     C:\\Users\\pc\\AppData\\Roaming\\nltk_data...\n",
      "[nltk_data]   Package stopwords is already up-to-date!\n",
      "[nltk_data] Downloading package punkt to\n",
      "[nltk_data]     C:\\Users\\pc\\AppData\\Roaming\\nltk_data...\n",
      "[nltk_data]   Package punkt is already up-to-date!\n",
      "[nltk_data] Downloading package movie_reviews to\n",
      "[nltk_data]     C:\\Users\\pc\\AppData\\Roaming\\nltk_data...\n",
      "[nltk_data]   Package movie_reviews is already up-to-date!\n"
     ]
    }
   ],
   "source": [
    "import numpy as np\n",
    "import math\n",
    "import scipy.io\n",
    "import csv\n",
    "from IPython.display import display\n",
    "from scipy import sparse\n",
    "import os.path\n",
    "import nltk.classify.util\n",
    "from nltk.classify import NaiveBayesClassifier\n",
    "from sklearn.feature_extraction.text import CountVectorizer\n",
    "import re\n",
    "from collections import Counter\n",
    "from nltk.corpus import stopwords\n",
    "import sklearn.neighbors, sklearn.linear_model, sklearn.ensemble, sklearn.naive_bayes\n",
    "import time\n",
    "import matplotlib.pyplot as plt\n",
    "nltk.download(\"stopwords\") \n",
    "nltk.download('punkt')\n",
    "nltk.download('movie_reviews')\n",
    "#removing stopwords\n",
    "from nltk import word_tokenize,sent_tokenize\n",
    "\n",
    "import nltk.classify.util\n",
    "from nltk.classify import NaiveBayesClassifier\n",
    "from nltk.corpus import movie_reviews\n",
    "\n",
    "\n",
    "## drawing tools\n",
    "# Load libraries\n",
    "\n",
    "# Math\n",
    "import numpy as np\n",
    "\n",
    "# Visualization \n",
    "%matplotlib notebook \n",
    "import matplotlib.pyplot as plt\n",
    "plt.rcParams.update({'figure.max_open_warning': 0})\n",
    "from mpl_toolkits.axes_grid1 import make_axes_locatable\n",
    "from scipy import ndimage\n",
    "\n",
    "# High-res visualization (but no rotation possible)\n",
    "%matplotlib inline\n",
    "from IPython.display import set_matplotlib_formats\n",
    "set_matplotlib_formats('png2x','pdf')\n",
    "\n",
    "# Print output of LFR code\n",
    "import subprocess\n",
    "\n",
    "# Sparse matrix\n",
    "import scipy.sparse\n",
    "import scipy.sparse.linalg\n",
    "\n",
    "# 3D visualization\n",
    "import pylab\n",
    "from mpl_toolkits.mplot3d import Axes3D\n",
    "from matplotlib import pyplot\n",
    "\n",
    "# Import data\n",
    "import scipy.io\n",
    "\n",
    "# Import functions in lib folder\n",
    "import sys\n",
    "sys.path.insert(1, 'lib')\n",
    "\n",
    "# Import helper functions\n",
    "%load_ext autoreload\n",
    "%autoreload 2\n",
    "\n",
    "# Import distance function\n",
    "import sklearn.metrics.pairwise\n",
    "\n",
    "# Remove warnings\n",
    "import warnings\n",
    "warnings.filterwarnings(\"ignore\")\n",
    "\n",
    "\n",
    "\n",
    "\n",
    "def find_between_r( s, first, last ):\n",
    "    try:\n",
    "        start = s.rindex( first ) + len( first )\n",
    "        end = s.rindex( last, start )\n",
    "        return s[start:end]\n",
    "    except ValueError:\n",
    "        return \"\""
   ]
  },
  {
   "cell_type": "markdown",
   "metadata": {},
   "source": [
    "# Datasets & Preprocessing"
   ]
  },
  {
   "cell_type": "markdown",
   "metadata": {},
   "source": [
    "** Sentimental Analysis Text dataset: **"
   ]
  },
  {
   "cell_type": "code",
   "execution_count": 3,
   "metadata": {
    "collapsed": false
   },
   "outputs": [
    {
     "name": "stdout",
     "output_type": "stream",
     "text": [
      "Length = 1578613 \n",
      "Type = <class 'numpy.ndarray'>\n",
      "[['0' '                   I missed the New Moon trailer...']\n",
      " ['5' '              omg its already 7:30 :O']\n",
      " ['0'\n",
      "  \"          .. Omgaga. Im sooo  im gunna CRy. I've been at this dentist since 11.. I was suposed 2 just get a crown put on (30mins)...\"]\n",
      " ['0' '         i think mi bf is cheating on me!!!       T_T']\n",
      " ['0' '         or i just worry too much?        ']\n",
      " ['5' '       Juuuuuuuuuuuuuuuuussssst Chillin!!']\n",
      " ['0' '       Sunny Again        Work Tomorrow  :-|       TV Tonight']\n",
      " ['5' '      handed in my uniform today . i miss you already']\n",
      " ['5' '      hmmmm.... i wonder how she my number @-)']\n",
      " ['0' '      I must think about positive..']]\n"
     ]
    }
   ],
   "source": [
    "SAT_data =[]\n",
    "with open('Projectdataset/Sentiment Analysis Dataset.csv', 'r') as csvfile:\n",
    "    spamreader = csv.reader(csvfile, delimiter=',')#, quotechar='|')\n",
    "    for row in spamreader:\n",
    "        SAT_data.append(row) \n",
    "SAT_data = SAT_data[2:]\n",
    "SAT_data = [[row[1],row[3]] for row in SAT_data]\n",
    "SAT_data = np.array(SAT_data)\n",
    "SAT_data[:,0] = [int(float(x))*5 for x in SAT_data[:,0]]\n",
    "SAT_data_chunk = SAT_data[0:8000]\n",
    "print('Length = {} '.format(len(SAT_data)))\n",
    "print('Type = {}'.format(type(SAT_data)))\n",
    "print(SAT_data[0:10])\n"
   ]
  },
  {
   "cell_type": "markdown",
   "metadata": {},
   "source": [
    "** Polarity Data: **"
   ]
  },
  {
   "cell_type": "code",
   "execution_count": 6,
   "metadata": {
    "collapsed": false,
    "scrolled": true
   },
   "outputs": [
    {
     "name": "stdout",
     "output_type": "stream",
     "text": [
      "Length = 10662 \n",
      "Type = <class 'numpy.ndarray'>\n",
      "[['0' ' . . . hokey art house pretension . ']\n",
      " ['5' \"despite the film's shortcomings , the stories are quietly moving . \"]\n",
      " ['0'\n",
      "  'parker updates the setting in an attempt to make the film relevant today , without fully understanding what it was that made the story relevant in the first place . ']\n",
      " ..., \n",
      " ['5'\n",
      "  'hollywood ending is not show-stoppingly hilarious , but scathingly witty nonetheless . ']\n",
      " ['5'\n",
      "  \"it's a coming-of-age story we've all seen bits of in other films -- but it's rarely been told with such affecting grace and cultural specificity . \"]\n",
      " ['5' \"it's a bittersweet and lyrical mix of elements . \"]]\n"
     ]
    }
   ],
   "source": [
    "polarity_data = []\n",
    "file1 = open(\"Projectdataset/rt-polaritydata/rt-polarity.neg\", \"r\")\n",
    "file2 = open(\"Projectdataset/rt-polaritydata/rt-polarity.pos\", \"r\")\n",
    "dataneg = file1.readlines();\n",
    "datapos = file2.readlines();\n",
    "dataneg = [i.replace('\\n','') for i in dataneg]\n",
    "datapos = [i.replace('\\n','') for i in datapos]\n",
    "\n",
    "zero = np.zeros(len(dataneg))\n",
    "dataneg = np.column_stack ((zero , dataneg) )\n",
    "\n",
    "one = 5*np.ones(len(datapos))\n",
    "datapos = np.column_stack ((one , datapos) )\n",
    "\n",
    "polarity_data = np.concatenate ((datapos,dataneg), axis = 0)\n",
    "np.random.shuffle(polarity_data)\n",
    "polarity_data[:,0] = [int(float(x)) for x in polarity_data[:,0]]\n",
    "\n",
    "print('Length = {} '.format(len(polarity_data)))\n",
    "print('Type = {}'.format(type(polarity_data)))\n",
    "print(polarity_data)"
   ]
  },
  {
   "cell_type": "markdown",
   "metadata": {},
   "source": [
    "** Amazon dataset: **"
   ]
  },
  {
   "cell_type": "code",
   "execution_count": 7,
   "metadata": {
    "collapsed": false
   },
   "outputs": [
    {
     "name": "stdout",
     "output_type": "stream",
     "text": [
      "Length = 31000 \n",
      "Type = <class 'numpy.ndarray'>\n",
      "[['2'\n",
      "  \"It is good if you have internet than you can download the stuff, else, you can't  \"]\n",
      " ['5'\n",
      "  \"The RIO rocks! It is so great that Diamond Multimedia prevailed in their fight against the forces of pure evil in the music industry and allowed us, the public, to have the RIO! This little baby holds your MP3's and plays  them with outrageous quality and no moving parts! You simply cannot make  the music &quot;skip&quot;. Take it jogging, bob sledding, whatever! The  Rio is cute and compact, battery lasts forever, runs great and is really  simple to use. Works well with the PC linkup, etc. A hot item!  \"]\n",
      " ['4'\n",
      "  'I had high hopes for the Diamond Rio and it certainly lived up 2 the hype. Lightweight and excellent quality with some good connecting software. My only gripe can be with memory. You definately need another 32Mb to store  your music. If you want one, my advice is to wait for the new upgraded  version with 64Mb and a graphic equaliser!  ']\n",
      " ['5'\n",
      "  \"Diamond's RIO is the current, silicon-state nightmare for monopolistic entertainment industries. When the first audio recording-devices entered the consumer market decades ago, the idea of a controlled  &quot;charge-per-copy&quot; business model in the music industry was  doomed. Although traditional copyrights could never be totally enforced,  the record and music-producing industry neglected these threads existing in  the shades of multi-billion profits.<p>Mp3 and the Internet raided the  existing markets with their &quot;natural&quot; power like a cruise-missile  against a frying-pan.  Like other good examples for  &quot;Killer-Apps&quot;, the RIO is designed to Web-Specs (mp3). This makes  its use and performance comparable with other CD-quality playing devices  while putting the power of the internet into the palm of your hand. If you  want to make a statement of &quot;being digital&quot;, the RIO is a must!  \"]\n",
      " ['5'\n",
      "  \"Remember when the Walkman hit the market years ago?  At first it was fad, then it became a craze before finally becoming as ubiquitous as taxi cabs in Manhattan.  The Diamond Rio is the first product with the potential to  eventually REPLACE the Walkman.  Think about it - portable music that  sounds as clear as a compact disc from a device that looks and feels like a  pager.  Unshockable, no matter how much you jump around or how bumpy the  bus ride.  This is the perfect gift for your favorite &quot;gadget  junkie&quot;, as long as they have a PC to download from.  Pssst...here's a  secret:  you can record your own CD's into MP3 format and download the  songs into your RIO - it isn't just for internet music!!  Great product.  \"]\n",
      " ['5' \"It's cool and small  \"]\n",
      " ['3'\n",
      "  \"...the 'Windows' software to download songs to the device DOES NOT WORK WITH Windows NT.<p>Also, the headphones are low quality so you might want to get some better ones because the actual quality of the audio signal is  pretty good.  The solid-state walkman has arrived.  \"]\n",
      " ['5'\n",
      "  \"Since the firts day I saw it, i knew it was going to be a great product. I just bought mine here on amazon.com!!!  What a terrific idea! I think it's going to be the standard for music, not only for the people that are  &quot;on-line&quot;but everybody as well. I highly recommend it!  \"]\n",
      " ['1'\n",
      "  'Only a half an hour of &quot;near&quot; quality music makes this format seriously flawed. To change music you eventually have to upload new music, i.e. a huge inconveneince when a computer is available. Mini disc is also  shock proof, recordable, near cd quality but in addition you can change  music with out the inconvenience of uploading music from a computer.  ']\n",
      " ['3'\n",
      "  'RIO is really great, but Diamond should increase its memory so as to really worth the money.  ']]\n"
     ]
    }
   ],
   "source": [
    "Amazon_data = []\n",
    "file4 = open(\"Projectdataset/amazonMP3reviews/amazon_mp3\", \"r\")\n",
    "data4 = file4.read()\n",
    "\n",
    "data4 = data4.split(\"#####\")\n",
    "for i in range(1,len(data4)):\n",
    "    text = find_between_r( data4[i], \"[fullText]:\", \"[rating]\" )\n",
    "    text = text.replace(\"\\n\",'')\n",
    "    rating = find_between_r( data4[i],\"[rating]:\",\"[recommend]\")\n",
    "    Amazon_data.append([float(rating),text])\n",
    "Amazon_data = np.asarray(Amazon_data)\n",
    "Amazon_data_chunk = Amazon_data[0:8000]\n",
    "Amazon_data[:,0] = [int(float(x)) for x in Amazon_data[:,0]]\n",
    "print('Length = {} '.format(len(Amazon_data)))\n",
    "print('Type = {}'.format(type(Amazon_data)))\n",
    "print(Amazon_data[0:10])\n"
   ]
  },
  {
   "cell_type": "markdown",
   "metadata": {},
   "source": [
    "** TripAdvisor dataset **"
   ]
  },
  {
   "cell_type": "code",
   "execution_count": 8,
   "metadata": {
    "collapsed": false
   },
   "outputs": [],
   "source": [
    "tripAdvisor_data1 = []\n",
    "path = 'Projectdataset/tripadvisor/Aspects'\n",
    "dirs = os.listdir(path)\n",
    "\n",
    "\n",
    "for direct in dirs:\n",
    "    #print(direct)\n",
    "    file5 = open(path+'/'+direct, \"r\")\n",
    "    data5 = file5.read()\n",
    "    data5 = data5.split(\"<Author>\")\n",
    "    data5 = data5[1:]\n",
    "    for data in data5:\n",
    "        ignore = False;\n",
    "        text = find_between_r( data, \"<Content>\", \"<Date>\")\n",
    "        text = text.replace(\"\\n\",'')\n",
    "        rank = find_between_r( data, \"<Rating>\", \"<Aspects>\")\n",
    "        rank = rank.rstrip().split('\\t') \n",
    "        if (rank ==['']):\n",
    "                ignore = True\n",
    "        if not (ignore): \n",
    "            rank = [float(x) for x in rank]\n",
    "            rank =round(np.mean(rank))\n",
    "            tripAdvisor_data1.append((rank, text))\n",
    "       \n",
    "        \n",
    "            \n"
   ]
  },
  {
   "cell_type": "code",
   "execution_count": 10,
   "metadata": {
    "collapsed": false
   },
   "outputs": [
    {
     "name": "stdout",
     "output_type": "stream",
     "text": [
      "Length = 198979 \n",
      "Type = <class 'list'>\n",
      "[(4.0, \"Wonderful time- even with the snow! What a great experience! From the goldfish in the room (which my daughter loved) to the fact that the valet parking staff who put on my chains on for me it was fabulous. The staff was attentive and went above and beyond to make our stay enjoyable. Oh, and about the parking: the charge is about what you would pay at any garage or lot- and I bet they wouldn't help you out in the snow!  \"), (4.0, \"Lovely hotel, unique decor, friendly front desk staff, central location It's only recently that I've started staying at boutique hotels, so I'm definitely not an expert on the subtleties that these types of establishments provide. But I've already stayed at a few Kimptons and I must say that my experiences are mostly good. Hotel Monaco is no exception. The decor at the Kimpton Hotels is always unique - they have a wonderful way of pulling off colors, textures and patterns so one feels cool and trendy yet comfortable. The lobby and lounge were decorated really nicely in very rich tones. Our room provided a nice view and had this modern, romantic, shabby-chic feel to it, for lack of a better description. All the staff was friendly and helpful without any attitude. Sazerac Restaurant served us delicious breakfast in a really great setting. Seattle is a cute town in and of itself, so the hotel only enhanced our stay. The location was ideal! We walked everywhere and had no need for a taxi. There are lots of restaurants nearby, and it only took a good 10-15 minutes to walk to Pike Place Market. From what I remember, the library is right across the street and is a must see. Gorgeous architecture. Overall, this was a nice hotel and I'd stay here again. I only gave it 4-stars because I recently stayed at a Shangri-La and was so wowed by the experience. But if I hadn't been, the Hotel Monaco would've gotten another star!  \"), (3.0, \"Nice hotel, expensive parking We got a good deal to stay at this hotel for our anniversary. We arrived late in the evening, and we took the advice of previous reviews and did the valet parking. Check in was very quick and easy. We were a little disappointed by the (non-existent) view from the room, but the room itself was clean and a nice size. The bed was comfortable, but I woke up with a stiff neck from the high pillows. It was not as soundproof as we like...we heard music from the next room at night, and in the morning there were loud bangs from doors opening and closing, and we could hear people talking in the hallway. Maybe we just had noisy neighbors. The aveda bath products were nice. We did not get a goldfish for our stay, though that is a nice touch and we would've taken advantage of it if we were staying longer. Location is great, within walking distance of shopping. Overall a nice experience, except for having to pay $40 for parking one night!  \"), (5.0, 'Fabulous hotel Location and service are great. The valet was a doll, the front desk got me to my room quickly and everytime I passed through the lobby, the staff had huge smiles on their faces. I will be staying here often and would recommend to anyone. Valet parking is the only way to go. Starbucks is on the same block for those who need their lattes first thing in the morning!  '), (-0.0, \"Loved the Monaco! Staff was amazing, with a small exception of the valet texting when we needed to hail a cab. He made up for it throughout our stay. Naturally in Kimpton style staff was incredibly friendly down to earth and helpful. Rooms were incredibly comfortable and clean. I've stayed at all 3 Kimptons in Seattle and the Monaco is my favorite thanks to their staff. They always makes me feel welcome and special. I love their wine hour. Ginger snap Cocktails in the restaurant made night. They were so yummy. Bartender Kelly was fantastic. Besides the high parking charge the Monaco gave us yet again a perfect stay.  \"), (3.0, 'Ok, but nothing special for the $$ they charge I am a Diamond Member at Hilton but decided to give this chain a shot when I had my 20th Anniversary in Seattle. Well to start off I booked a suite and paid extra and then found that their website description is not what you get. A suite has more than a bedroom and a bathroom (standard hotel room). When I took my printed reservation down to the front desk and showed them that it said things like two TV, a couch, ect, the desk clerk told me oh, they mixed two suites into the same description on the Kimpton Website - sorry about that how about a free breakfast. You got to be kidding me! Even Embassy Suits has a sitting room, bathroom and bedroom unlike what Kimpton calls a suite. I was here for a 5 day stay and this was how they offer to correct false advertising? I send the Kimpton preferred guest website an email asking about the failure to provide a suite as advertised on their website (my reservation description) (also furnished a hard copy of the reservation printout (from their website) to the front desk manager on duty) and did not get any reply or solution. I also send an email after the trip (guest survey) and once again did not get any follow up via email or mail. So I guess that tell you how concerned they are about guest.The staff ranged from indifferent to not helpful. I asked the front desk if their was any good breakfast spots in the neighborhood hood and was told, no only the hotels. Gee I found one of the best breakfast spots in Seattle 1/2 a block away, how convenient that the hotel does not know they exist. We arrived late the first night (11 pm) and had to go inside and run down the bellman who busy chating on his cell phone to get any help with our bags.Prior to my arrival I had emailed the hotel to inform them that it was my 20th Anniversary as my other half is really picky so I wanted to make sure everything was good to go. I got a nice email back saying they would like to deliver a bottle of champagne and some chocolate covered strawberries to our room upon arrival to celebrate. I also told them we needed foam pillows. So upon arrival no champagne or strawberries, no foam pillows and we had a great room with a view of an alley and high rise building -nice!Now the good - you will not find a better housekeeping staff or a cleaner room than this property. We were very impressed that when we left each morning to go out shopping that they made up the room before we got back (even short trips of 2 hours or less). The beds were comfortable.Not so good - the AC-Heat control has a 4 x 4 inch screen that is bring green and will shine directly in your eyes all night. If you are light sensitive, you will have to tape something over the controls.This is not a 4 start hotel, it a very clean business hotel with super high rates. You can do better at any of the chain hotels in Seattle.  '), (4.0, \"Nice Rooms but not a 4* experience The Hotel Monaco in Seattle is a good hotel but I wouldn't put it at 4* level.Positives:Large bathroom (Mediterranean Suite)Comfortable bed  pillowsAttentive housekeeping staffNegatives:AC unit malfunctioned throughout the stay Front desk disorganized. Missed 3 separate wakeup calls. Concierge was always busy and hard to get in touch with. Didn't provide much guidance on special requests.TV hard to use and iPod sound dock in suite non functioning.----I decided to book a Mediterranean Suite for my 3 night weekend stay after my 1st choice (where the rest of my party was) filled up. In comparison to the W, I spent about $45 more per night but had a larger (square footage) room with a great soaking tub (with whirlpool jets) and a nice shower.Before my stay, I had the hotel arrange a car service, the price $53 with tip was reasonable and the driver was waiting for me on arrival.Checkin was easy but the downside was that with a room that was picked for its 2 person jacuzi tub, I found no bath accessories (salts, bubble bath etc...) and didn't get any during the stay. The first night (got in around 12/1a) I checked in and had a voucher for a bottle of champagne (nice gesture) and the fish waiting in my room. First impression is that the room was huge but there was so much open space I felt that the room was almost too big. The TV was far away from the bed so it was a chore to change the channel. The iPod dock was also broken which was disappointing.In the morning on my way out I asked for someone at the desk to check the thermostat out (it said 65F but was around 74, which was about 2 degrees too warm) and try to cover its face for me at night (bright blue light kept me up). When I got back to the room that night, no one had done either. That was the 1st drop by the front desk. I called maintainence and someone came to look at the thermostat but he told me to play around with the settings until I was happy (why have a digital box if it won't work!?!??!?!)I asked for a wakeup call at 10am the next morning, that didn't happen. I called later for a 6pm nap wakeup call.... they forgot that. The 10am wakeup call the next morning, yep, it was forgotten.The bathroom facilities were great in this room but I was surprised that a room sold for its whirlpool bath tub wouldn't have had any bath amenities. It was great to relax in the water with the jets going.  \"), (4.0, \"Wonderful experience at the Monaco We are Seattle residents, so it was interesting researching and booking a hotel in our own city. Our daughter's 9th birthday was 09.13.08 and we promised to take her and two girlfriends to see Shrek the Musical at the 5th Avenue Theater, and decided we'd make a fun night out of it by booking a nearby hotel as well.We settled on the Monaco based on its proximity to the theater, price, and Trip Adviser reviews, and couldn't have had a more rewarding experience.The play started at 2:00 PM, so the day before, I called and requested an early check-in of 1:00. I was told there was no guarantee, which is industry standard, so we left our house headed for the Monaco with no real expectation of being able to check in to the room early. To my utter amazement, we arrived and were checked in and on our way up to the room in about 90 seconds. Big points there. While checking in, I asked the front desk staff to send three of the child-sized animal print robes and a few goldfish up to the room while we were at the play as a fun surprise for the girls.When we arrived at the room, it was clean, spacious, and very nicely furnished and decorated. I almost always take pictures for TA reviews, but we had so much on our plates that day, it just didn't happen.After the play, we returned to the robes and goldfish as promised, and the girls were ecstatic. The little touches that the hotel provides really personalize the hotel experience and make it feel so much more homey, as opposed to many of the sterile hotel experiences I've had in the past. We didn't spend long in the room before heading down to Sazerac (the hotel's restaurant) for dinner. In the mean time, my husband sneaked my daughter's birthday cake out of our car and left it with the front desk staff with instructions that we would like to order it from room service so that we could keep it a surprise from our daughter. No problem.Dinner was wonderful, and our wonderful (and patient!) waiter overheard it was a birthday, and surprised the girls with a chocolate lava cake for dessert. They were thrilled.When we finally headed to the room for any length of time that day, we were surprised to find three gift-packs for the girls, courtesy of the hotel, along with a nice card for the birthday girl letting her know that whenever she was ready, they had some cookies and milk for her - she simply needed to call room service. Another wonderful touch.Eventually we ordered our cake from room service and it was delivered along with candles provided by the hotel. The girls loved that. :)I can honestly say that the hotel was dead quiet that night - I actually wondered if our floor was empty. The beds were quite comfortable (although my husband took some issue with the pillows. All things considered, I think we'll give it a pass!) and we slept well. The next morning we headed back downstairs for breakfast and it was quite good. I have a few suggestions for the restaurants Bloody Mary bar - Sazerac, call me! :)Checkout was smooth, and when we left, everyone was incredibly happy with our experience.As a humorous side-note, my daughter and her friends stayed up so late the night of her birthday, that she was exhausted when we got back to our house. At bedtime that night, she burst into tears, lamenting that the best day of her life was over. She also asked if we could go back to the Monaco next year.Thank you so much Hotel Monaco for making our experience so incredibly enjoyable, and for making my daughter feel so special. Well done.  \"), (5.0, 'Great Hotel Fantastic Hotel. Get the goldfish to keep you company. We still miss ours, Phil! Jeff at the concierge was a great help. Loved the crazy room--somehow the stripes work. Will definitely return. Breakfast at the restaurant was outstanding.  '), (4.0, \"Loved It Location is fabulous. Service couldn't have been better.  \")]\n"
     ]
    }
   ],
   "source": [
    "tripAdvisor_data2=np.asarray(tripAdvisor_data1[0:9000])\n",
    "#tripAdvisor_data1=np.asarray(tripAdvisor_data1)\n",
    "#tripAdvisor_data1=np.array(tripAdvisor_data1)\n",
    "print('Length = {} '.format(len(tripAdvisor_data1)))\n",
    "print('Type = {}'.format(type(tripAdvisor_data1)))\n",
    "print(tripAdvisor_data1[0:10])\n"
   ]
  },
  {
   "cell_type": "markdown",
   "metadata": {
    "collapsed": true
   },
   "source": [
    "** Sorted Data ACL **"
   ]
  },
  {
   "cell_type": "code",
   "execution_count": 12,
   "metadata": {
    "collapsed": false
   },
   "outputs": [
    {
     "name": "stdout",
     "output_type": "stream",
     "text": [
      "books review\n",
      "Length = 2000 \n",
      "Type = <class 'numpy.ndarray'>\n",
      "dvds_review\n",
      "Length = 2000 \n",
      "Type = <class 'numpy.ndarray'>\n",
      "electronics_review\n",
      "Length = 2000 \n",
      "Type = <class 'numpy.ndarray'>\n",
      "kh_review\n",
      "Length = 2000 \n",
      "Type = <class 'numpy.ndarray'>\n",
      "review_data\n",
      "Length = 8000 \n",
      "Type = <class 'numpy.ndarray'>\n",
      "[['2'\n",
      "  \"My introduction to Borges was through the collection Labyrinths. I immediately fell in love with the stories, the prose, the poetry, and so went on to buy this complete volume. While it is nice to have all Borges's stories in one place, and at a reasonable price, the language doesn't really hold up for me. The translation is... well, not sloppy, but too simple, like those childrens' versions of classic novels they pressed on you in 5th grade. I have nothing against Andrew Hurley, but his translation of Borges leaves me cold. I'd give Borges 5 stars out of 5, but Hurley? No more than 2.\"]\n",
      " ['1'\n",
      "  'After serveral months of use, \"Card Error\" was shown on my Canon Digital Rebel for my 512MB Viking card, which was half full with pictures. Fortunately, I just lost a few of pictures.  I tried to format the file; \"Card Error\" kept occuring on my Rebel.  This 512MB Viking card is now used for my data files.  Probably, 512MB Viking cards are not designed for high Mega Pixel camera and taking many shots in a short period of time (i.e. 3 shots/sec.).  My Canon A40 has no problems when used with the 512MB Viking card so far.  Probably, I am going to buy a 512MB card from Sandisk or Simple Tech']\n",
      " ['2'\n",
      "  'The Kite Runner gets off to such a good start, with its blend of history, observations about daily life in Kaboul, and a compelling story of two boys growing up together. The second half goes badly astray, as the novel becomes more and more manipulative and sentimental. By the end of the book, the author is willing to put his characters through all sorts of hell just so he can follow up with a teary reconciliation. I wish an editor had convinced him to tighten it up, stay focused, and resist the urge to tug at the heartstrings with such a heavy hand']\n",
      " ['4'\n",
      "  \"Purchased this iterm for my HP8450 printer. Pictures are outstanding and the cartridge does the job.Only problem is the cartridge gets eaten up in no time at all. Cost per print no bargain. Problem isn't with the catridge, but with the printer and print process. Now we know why HP has printers at such reasonable price. They eat you up and spit you out via the price of cartidges. That's where the real profit lies. Amazon is tops in price and service delivery\"]\n",
      " ['1' 'i felt as if this book was way below my reading leve']\n",
      " ['5'\n",
      "  \"Not being familiar with yoga, I chose this DVD because of Rodney Yee's reputation and the low cost.  What I found was an easy to follow workout that makes you feel relaxed, and yet energized, after the first session.  There are no bells or whistles, just a great workout.  I've purchases two other titles in the series, Power Yoga - Strength and Power Yoga - Stamina, and I switch off each workout.  Some of the moves are more difficult than others, but it gives you something to work up to.  If I couldn't do a stretch, I would go as far as I could and hold it. It was a great feeling when I was finally able to stand in a pose or do a stretch that initailly I was unable to do.  Aside from these video's, the only equipment that you need is a mat which is extremely important to prevent slipping and back pain...  I DO know this for a fact. \"]\n",
      " ['1'\n",
      "  'Powder from the toner cartridges get all over the inside of the printer and then ruins every page that is printed.  Every page that is printed from my printer has a greyish color due to the powder dirt inside.  It is impossible to clean it since the powder is everywhere.  The only way to get it clean would be to bring it to a car wash (obviously this would leave the printer with bigger problems than page color).  What a waste of money!!!  Good thing my office bought it and not me or I would be furious']\n",
      " ['1'\n",
      "  'HOOVER HAS A KNOWN PROBLEM WITH THE BELTS STRETCHING OUT ON ALL THE SELF PROPELLED VACUUMS, BUT WILL DO NOTHING FOR CUSTOMERS STUCK WITH THEM! WE MUST REPLACE THE DRIVE AND PROPEL BELTS EVERY COUPLE OF MONTHS. REDICULOUS POOR CUSTOMER SERVIC']\n",
      " ['4'\n",
      "  'Not only a terrific portrait of Louis B. Mayer, but a wonderful history of Hollywood movie-making.  My caveat is the portrait of Dore Schary.  While Eyman is fair in his depiction of the struggle between Mayer and Thalberg, Eyman found it necessary to choose sides in the Mayer Schary conflict in the last part of the book, possibly to \"correct\" the view of Mayer the Monster and Schary the savior in earlier Mayer bios.  His portrait of Schary, a man I knew, bears no resemblance to that decent, fair minded, and gifted man.  It is clear that he interviewed few surviving friends and family members of Schary.  Eyman claims that Schary had no knowledge of the making of musicals, yet Schary in his post MGM days produced a successful musical, \"The Unsinkable Molly Brown.\"  Whatever good flims came from MGM during Schary\\'s reign are dismissed as the work of others. He creates a portrait of Schary as a talentless hack, forgetting not only the good films Schary wrote in earlier days but the successful Broadway play he wrote about FDR, \"Sunrise at Campabello.\"  He writes that Schary only spoke of himself in retirement.  I knew few older men who took such an interst in world affairs and the fortunes and misfortunes of his friends.  If he can get Schary so wrong, it forces me to question his other judgments.  Having said all that, I think this is a fine book, evoking old Hollywood with grace and style.   ']\n",
      " ['5'\n",
      "  'Great story.  Great actors.  Beautiful scenery and colors.  My favorite movie']]\n"
     ]
    }
   ],
   "source": [
    "#################################### Books ######################################################\n",
    "books_data = []\n",
    "file7 = open('Projectdataset/sorted_data_acl/books/negative.review', \"r\")\n",
    "file8 = open('Projectdataset/sorted_data_acl/books/positive.review', \"r\")\n",
    "\n",
    "negative = file7.read()\n",
    "positive = file8.read()\n",
    "######## books\n",
    "negative = negative.split(\"<review>\")\n",
    "positive = positive.split(\"<review>\")\n",
    "negative = negative[1:]\n",
    "positive = positive[1:]\n",
    "\n",
    "a = []\n",
    "b = []\n",
    "for neg in negative:\n",
    "    text = find_between_r( neg, \"<review_text>\", \"</review_text>\")\n",
    "    text = text.replace(\"\\n\",'')\n",
    "    rate = find_between_r( neg, \"<rating>\", \"</rating>\")\n",
    "    a.append((rate,text))\n",
    "    \n",
    "for pos in positive:\n",
    "    text = find_between_r( pos, \"<review_text>\", \"</review_text>\")\n",
    "    text = text.replace(\"\\n\",'')\n",
    "    rate = find_between_r( pos, \"<rating>\", \"</rating>\")\n",
    "    b.append((rate,text))\n",
    "\n",
    "books_data = np.concatenate((a,b) , axis = 0)\n",
    "np.random.shuffle(books_data)\n",
    "print(\"books review\")\n",
    "print('Length = {} '.format(len(books_data)))\n",
    "print('Type = {}'.format(type(books_data)))\n",
    "#print(books_data)\n",
    "\n",
    "#################################### DVDs ######################################################\n",
    "DVD_dataset= []\n",
    "file9 = open('Projectdataset/sorted_data_acl/dvd/negative.review', \"r\")\n",
    "file10 = open('Projectdataset/sorted_data_acl/dvd/positive.review', \"r\")\n",
    "negative = file9.read()\n",
    "positive = file10.read()\n",
    "\n",
    "negative = negative.split(\"<review>\")\n",
    "positive = positive.split(\"<review>\")\n",
    "negative = negative[1:]\n",
    "positive = positive[1:]\n",
    "\n",
    "a = []\n",
    "b = []\n",
    "for neg in negative:\n",
    "    text = find_between_r( neg, \"<review_text>\", \"</review_text>\")\n",
    "    text = text.replace(\"\\n\",'')\n",
    "    rate = find_between_r( neg, \"<rating>\", \"</rating>\")\n",
    "    a.append((rate,text))\n",
    "    \n",
    "for pos in positive:\n",
    "    text = find_between_r( pos, \"<review_text>\", \"</review_text>\")\n",
    "    text = text.replace(\"\\n\",'')\n",
    "    rate = find_between_r( pos, \"<rating>\", \"</rating>\")\n",
    "    b.append((rate,text))\n",
    "\n",
    "\n",
    "DVD_dataset = np.concatenate((a,b) , axis = 0)\n",
    "np.random.shuffle(DVD_dataset)\n",
    "print(\"dvds_review\")\n",
    "print('Length = {} '.format(len(DVD_dataset)))\n",
    "print('Type = {}'.format(type(DVD_dataset)))\n",
    "#print(DVD_dataset)\n",
    "\n",
    "#################################### Electronics ######################################################\n",
    "electronics_data = []\n",
    "file11 = open('Projectdataset/sorted_data_acl/electronics/negative.review', \"r\")\n",
    "file12 = open('Projectdataset/sorted_data_acl/electronics/positive.review', \"r\")\n",
    "\n",
    "negative = file11.read()\n",
    "positive = file12.read()\n",
    "\n",
    "negative = negative.split(\"<review>\")\n",
    "positive = positive.split(\"<review>\")\n",
    "negative = negative[1:]\n",
    "positive = positive[1:]\n",
    "\n",
    "a = []\n",
    "b = []\n",
    "for neg in negative:\n",
    "    text = find_between_r( neg, \"<review_text>\", \"</review_text>\")\n",
    "    text = text.replace(\"\\n\",'')\n",
    "    rate = find_between_r( neg, \"<rating>\", \"</rating>\")\n",
    "    a.append((rate,text))\n",
    "    \n",
    "for pos in positive:\n",
    "    text = find_between_r( pos, \"<review_text>\", \"</review_text>\")\n",
    "    text = text.replace(\"\\n\",'')\n",
    "    rate = find_between_r( pos, \"<rating>\", \"</rating>\")\n",
    "    b.append((rate,text))\n",
    "\n",
    "electronics_data = np.concatenate((a,b) , axis = 0)\n",
    "np.random.shuffle(electronics_data)\n",
    "print(\"electronics_review\")\n",
    "print('Length = {} '.format(len(electronics_data)))\n",
    "print('Type = {}'.format(type(electronics_data)))\n",
    "#print(electronics_data)\n",
    "########################################## kitchen_&_housewares ##############################################\n",
    "kh_dataset = []\n",
    "file13 = open('Projectdataset/sorted_data_acl/kitchen_&_housewares/negative.review', \"r\")\n",
    "file14 = open('Projectdataset/sorted_data_acl/kitchen_&_housewares/positive.review', \"r\")\n",
    "\n",
    "negative = file13.read()\n",
    "positive = file14.read()\n",
    "\n",
    "negative = negative.split(\"<review>\")\n",
    "positive = positive.split(\"<review>\")\n",
    "negative = negative[1:]\n",
    "positive = positive[1:]\n",
    "\n",
    "a = []\n",
    "b = []\n",
    "for neg in negative:\n",
    "    text = find_between_r( neg, \"<review_text>\", \"</review_text>\")\n",
    "    text = text.replace(\"\\n\",'')\n",
    "    rate = find_between_r( neg, \"<rating>\", \"</rating>\")\n",
    "    a.append((rate,text))\n",
    "    \n",
    "for pos in positive:\n",
    "    text = find_between_r( pos, \"<review_text>\", \"</review_text>\")\n",
    "    text = text.replace(\"\\n\",'')\n",
    "    rate = find_between_r( pos, \"<rating>\", \"</rating>\")\n",
    "    b.append((rate,text))\n",
    "\n",
    "kh_dataset = np.concatenate((a,b) , axis = 0)\n",
    "np.random.shuffle(kh_dataset)\n",
    "print(\"kh_review\")\n",
    "print('Length = {} '.format(len(kh_dataset)))\n",
    "print('Type = {}'.format(type(kh_dataset)))\n",
    "\n",
    "review_data = np.concatenate((books_data,DVD_dataset,electronics_data,kh_dataset))\n",
    "np.random.shuffle(review_data)\n",
    "print(\"review_data\")\n",
    "print('Length = {} '.format(len(review_data)))\n",
    "print('Type = {}'.format(type(review_data)))\n",
    "review_data[:,0] = [int(float(x)) for x in review_data[:,0]]\n",
    "print(review_data[0:10])"
   ]
  },
  {
   "cell_type": "markdown",
   "metadata": {},
   "source": [
    "# Binary Classification\n",
    "** feature extraction **"
   ]
  },
  {
   "cell_type": "code",
   "execution_count": 13,
   "metadata": {
    "collapsed": false
   },
   "outputs": [
    {
     "name": "stdout",
     "output_type": "stream",
     "text": [
      "train on 1500 instances, test on 500 instances\n",
      "accuracy: 0.728\n",
      "Most Informative Features\n",
      "             magnificent = True              pos : neg    =     15.0 : 1.0\n",
      "             outstanding = True              pos : neg    =     13.6 : 1.0\n",
      "               insulting = True              neg : pos    =     13.0 : 1.0\n",
      "              vulnerable = True              pos : neg    =     12.3 : 1.0\n",
      "               ludicrous = True              neg : pos    =     11.8 : 1.0\n",
      "                  avoids = True              pos : neg    =     11.7 : 1.0\n",
      "             uninvolving = True              neg : pos    =     11.7 : 1.0\n",
      "             fascination = True              pos : neg    =     10.3 : 1.0\n",
      "              astounding = True              pos : neg    =     10.3 : 1.0\n",
      "                 idiotic = True              neg : pos    =      9.8 : 1.0\n"
     ]
    }
   ],
   "source": [
    "def word_feats(words):\n",
    "        return dict([(word, True) for word in words])\n",
    "    \n",
    "negids = movie_reviews.fileids('neg')\n",
    "posids = movie_reviews.fileids('pos')\n",
    " \n",
    "negfeats = [(word_feats(movie_reviews.words(fileids=[f])), 'neg') for f in negids]\n",
    "posfeats = [(word_feats(movie_reviews.words(fileids=[f])), 'pos') for f in posids]\n",
    "\n",
    "negcutoff = int(len(negfeats)*3/4)\n",
    "poscutoff = int(len(posfeats)*3/4)\n",
    "\n",
    "trainfeats = negfeats[:negcutoff] + posfeats[:poscutoff]\n",
    "testfeats = negfeats[negcutoff:] + posfeats[poscutoff:]\n",
    "print('train on %d instances, test on %d instances' % (len(trainfeats), len(testfeats)))\n",
    " \n",
    "classifier = NaiveBayesClassifier.train(trainfeats)\n",
    "print('accuracy:', nltk.classify.util.accuracy(classifier, testfeats))\n",
    "classifier.show_most_informative_features()"
   ]
  },
  {
   "cell_type": "code",
   "execution_count": null,
   "metadata": {
    "collapsed": false
   },
   "outputs": [],
   "source": []
  },
  {
   "cell_type": "code",
   "execution_count": null,
   "metadata": {
    "collapsed": true
   },
   "outputs": [],
   "source": []
  },
  {
   "cell_type": "markdown",
   "metadata": {
    "collapsed": false,
    "scrolled": true
   },
   "source": [
    "# Feature Extraction\n",
    "** Bag of Words Feature Extraction ** \n",
    "\n",
    "\n",
    "\n",
    "\n"
   ]
  },
  {
   "cell_type": "code",
   "execution_count": 14,
   "metadata": {
    "collapsed": false
   },
   "outputs": [
    {
     "name": "stdout",
     "output_type": "stream",
     "text": [
      "Dataset =Polarity Dataset\n",
      "Length = 10662\n",
      "bow = (10662, 300)\n",
      "Y = (10662,)\n",
      "Dataset =Amazon Dataset\n",
      "Length = 8000\n",
      "bow = (8000, 300)\n",
      "Y = (8000,)\n",
      "Dataset =SAT dataset\n",
      "Length = 8000\n",
      "bow = (8000, 300)\n",
      "Y = (8000,)\n",
      "Dataset =Trip Advisor\n",
      "Length = 9000\n",
      "bow = (9000, 300)\n",
      "Y = (9000,)\n",
      "Dataset =Items\n",
      "Length = 8000\n",
      "bow = (8000, 300)\n",
      "Y = (8000,)\n"
     ]
    }
   ],
   "source": [
    "def column(matrix, i):\n",
    "    return [row[i] for row in matrix]\n",
    "def compute_bag_of_words(text, nwords):\n",
    "    vectorizer = CountVectorizer(max_features=nwords)\n",
    "    vectors = vectorizer.fit_transform(text)\n",
    "    vocabulary = vectorizer.get_feature_names()\n",
    "    return vectors, vocabulary\n",
    "\n",
    "nwords = 300 # number of words to represent text\n",
    "\n",
    "# all datasets texts\n",
    "text_polarity = column(polarity_data,1)\n",
    "text_amazon = column(Amazon_data_chunk,1)\n",
    "text_sat = column(SAT_data_chunk,1)\n",
    "text_trip = column(tripAdvisor_data2,1)\n",
    "text_items = column(review_data,1)\n",
    "# all datasets ratings\n",
    "Y_polarity = np.asarray(column(polarity_data,0))\n",
    "Y_amazon = np.asarray(column(Amazon_data_chunk,0))\n",
    "Y_sat = np.asarray(column(SAT_data_chunk,0))\n",
    "Y_trip = np.asarray(column(tripAdvisor_data2,0))\n",
    "Y_items = np.asarray(column(review_data,0))\n",
    "\n",
    "names = [\"Polarity Dataset\",\"Amazon Dataset\",\"SAT dataset\",\"Trip Advisor\",\"Items\"]\n",
    "texts = [text_polarity,text_amazon,text_sat,text_trip,text_items]\n",
    "Ys = [Y_polarity , Y_amazon, Y_sat, Y_trip, Y_items]\n",
    "stop_words = set(stopwords.words('english'))\n",
    "\n",
    "filtered_data =[]\n",
    "bows = []\n",
    "i = 0\n",
    "\n",
    "for textset in texts:\n",
    "    filtered=[];\n",
    "    for item in textset:\n",
    "        words = word_tokenize(item)\n",
    "        words =[word.lower() for word in words]\n",
    "        filtered_item=[];\n",
    "        for w in words:\n",
    "            if w not in stop_words:\n",
    "                filtered_item.append(w)\n",
    "        result = ' '.join(filtered_item)\n",
    "        filtered.append(result)\n",
    "    bow, vocab = compute_bag_of_words(filtered, nwords)\n",
    "    bows.append(bow)\n",
    "    print(\"Dataset ={}\".format(names[i]))\n",
    "    print(\"Length = {}\".format(len(filtered))) \n",
    "    print(\"bow = {}\".format(bow.shape))\n",
    "    print(\"Y = {}\".format(Ys[i].shape))\n",
    "    filtered_data.append(filtered)\n",
    "    i += 1\n"
   ]
  },
  {
   "cell_type": "markdown",
   "metadata": {},
   "source": [
    "# Dividing into Training data and Testing data"
   ]
  },
  {
   "cell_type": "code",
   "execution_count": 15,
   "metadata": {
    "collapsed": false
   },
   "outputs": [
    {
     "name": "stdout",
     "output_type": "stream",
     "text": [
      "7997\n",
      "6000\n",
      "6000\n",
      "6750\n",
      "6000\n"
     ]
    }
   ],
   "source": [
    "#####polarity\n",
    "\n",
    "\n",
    "X_trains = []\n",
    "X_tests = []\n",
    "Y_trains = []\n",
    "Y_tests = []\n",
    "i = 0\n",
    "for textset in texts:\n",
    "    cutoff = math.ceil(len(Ys[i])*0.75)\n",
    "    print(cutoff)\n",
    "    X_trains.append(bows[i][0:cutoff])\n",
    "    X_tests.append(bows[i][cutoff:])\n",
    "    Y_trains.append(Ys[i][0:cutoff])\n",
    "    Y_tests.append(Ys[i][cutoff:])\n",
    "    #display(\"X_train: {}\".format(X_trains[i].shape))\n",
    "    #display(\"X_test: {}\".format(X_tests[i].shape))\n",
    "    #display(\"Y_train: {}\".format(Y_trains[i].shape))\n",
    "    #display(\"Y_test: {}\".format(Y_tests[i].shape))\n",
    "    #display(type(X_tests[i]))\n",
    "    #display(type(Y_trains[i]))\n",
    "    #display((X_tests[i]))\n",
    "    #display((Y_trains[i]))\n",
    "    i+=1\n"
   ]
  },
  {
   "cell_type": "markdown",
   "metadata": {},
   "source": [
    "# Classifiers and using the right one"
   ]
  },
  {
   "cell_type": "code",
   "execution_count": 16,
   "metadata": {
    "collapsed": false
   },
   "outputs": [
    {
     "name": "stdout",
     "output_type": "stream",
     "text": [
      "Dataset = Polarity Dataset\n",
      "Classifier:          KNN\n",
      "Train accuracy:      71.61\n",
      "Test accuracy:       56.62\n",
      "Classifier:          SVM\n",
      "Train accuracy:      68.33\n",
      "Test accuracy:       65.59\n",
      "Classifier:          Log-R\n",
      "Train accuracy:      68.39\n",
      "Test accuracy:       65.70\n",
      "Classifier:          RanF\n",
      "Train accuracy:      91.60\n",
      "Test accuracy:       61.73\n",
      "Classifier:          RC\n",
      "Train accuracy:      68.36\n",
      "Test accuracy:       65.37\n",
      "Classifier:          B\n",
      "Train accuracy:      68.05\n",
      "Test accuracy:       65.70\n",
      "Classifier:          MultiNB\n",
      "Train accuracy:      67.91\n",
      "Test accuracy:       65.52\n",
      "Dataset = Amazon Dataset\n",
      "Classifier:          KNN\n",
      "Train accuracy:      60.75\n",
      "Test accuracy:       42.90\n",
      "Classifier:          SVM\n",
      "Train accuracy:      60.20\n",
      "Test accuracy:       54.90\n",
      "Classifier:          Log-R\n",
      "Train accuracy:      60.85\n",
      "Test accuracy:       54.20\n",
      "Classifier:          RanF\n",
      "Train accuracy:      99.08\n",
      "Test accuracy:       46.60\n",
      "Classifier:          RC\n",
      "Train accuracy:      56.73\n",
      "Test accuracy:       52.90\n",
      "Classifier:          B\n",
      "Train accuracy:      44.87\n",
      "Test accuracy:       42.25\n",
      "Classifier:          MultiNB\n",
      "Train accuracy:      56.37\n",
      "Test accuracy:       52.95\n",
      "Dataset = SAT dataset\n",
      "Classifier:          KNN\n",
      "Train accuracy:      78.72\n",
      "Test accuracy:       57.65\n",
      "Classifier:          SVM\n",
      "Train accuracy:      79.12\n",
      "Test accuracy:       68.50\n",
      "Classifier:          Log-R\n",
      "Train accuracy:      78.73\n",
      "Test accuracy:       64.75\n",
      "Classifier:          RanF\n",
      "Train accuracy:      91.47\n",
      "Test accuracy:       62.10\n",
      "Classifier:          RC\n",
      "Train accuracy:      78.37\n",
      "Test accuracy:       66.40\n",
      "Classifier:          B\n",
      "Train accuracy:      77.97\n",
      "Test accuracy:       69.40\n",
      "Classifier:          MultiNB\n",
      "Train accuracy:      77.92\n",
      "Test accuracy:       70.10\n",
      "Dataset = Trip Advisor\n",
      "Classifier:          KNN\n",
      "Train accuracy:      45.79\n",
      "Test accuracy:       20.22\n",
      "Classifier:          SVM\n",
      "Train accuracy:      41.23\n",
      "Test accuracy:       28.09\n",
      "Classifier:          Log-R\n",
      "Train accuracy:      41.59\n",
      "Test accuracy:       28.13\n",
      "Classifier:          RanF\n",
      "Train accuracy:      98.33\n",
      "Test accuracy:       22.13\n",
      "Classifier:          RC\n",
      "Train accuracy:      38.06\n",
      "Test accuracy:       28.40\n",
      "Classifier:          B\n",
      "Train accuracy:      30.76\n",
      "Test accuracy:       23.78\n",
      "Classifier:          MultiNB\n",
      "Train accuracy:      35.38\n",
      "Test accuracy:       27.07\n",
      "Dataset = Items\n",
      "Classifier:          KNN\n",
      "Train accuracy:      60.22\n",
      "Test accuracy:       41.15\n",
      "Classifier:          SVM\n",
      "Train accuracy:      58.15\n",
      "Test accuracy:       53.80\n",
      "Classifier:          Log-R\n",
      "Train accuracy:      58.45\n",
      "Test accuracy:       53.10\n",
      "Classifier:          RanF\n",
      "Train accuracy:      98.58\n",
      "Test accuracy:       46.40\n",
      "Classifier:          RC\n",
      "Train accuracy:      57.60\n",
      "Test accuracy:       53.60\n",
      "Classifier:          B\n",
      "Train accuracy:      52.55\n",
      "Test accuracy:       49.85\n",
      "Classifier:          MultiNB\n",
      "Train accuracy:      55.83\n",
      "Test accuracy:       51.55\n"
     ]
    }
   ],
   "source": [
    "\n",
    "# The different classifiers\n",
    "clf, train_accuracy, test_accuracy, exec_time = [], [], [], []\n",
    "clf.append(sklearn.neighbors.KNeighborsClassifier()) # k-NN classifier\n",
    "clf.append(sklearn.svm.LinearSVC()) # linear SVM classifier\n",
    "clf.append(sklearn.linear_model.LogisticRegression()) # logistic classifier\n",
    "clf.append(sklearn.ensemble.RandomForestClassifier())\n",
    "clf.append(sklearn.linear_model.RidgeClassifier())\n",
    "clf.append(sklearn.naive_bayes.BernoulliNB())\n",
    "clf.append(sklearn.naive_bayes.MultinomialNB())\n",
    "\n",
    "\n",
    "train_accuracies = []\n",
    "test_accuracies = []\n",
    "\n",
    "\n",
    "# train on different datasets \n",
    "for i in range (0,len(names)):\n",
    "    print(\"Dataset = {}\".format(names[i]))\n",
    "    classifier = ['KNN','SVM','Log-R','RanF', 'RC','B','MultiNB']\n",
    "    j = 0\n",
    "    train_accuracy = []\n",
    "    test_accuracy = []\n",
    "    for c in clf:\n",
    "        #t_start = time.process_time()\n",
    "        c.fit(X_trains[i], Y_trains[i])\n",
    "        train_pred = c.predict(X_trains[i])\n",
    "        test_pred = c.predict(X_tests[i])\n",
    "        train_accuracy .append( '{:5.2f}'.format(100*sklearn.metrics.accuracy_score(Y_trains[i], train_pred)) )\n",
    "        test_accuracy .append( '{:5.2f}'.format(100*sklearn.metrics.accuracy_score(Y_tests[i], test_pred)) )\n",
    "        #exec_time.append('{:5.2f}'.format(time.process_time() - t_start))\n",
    "        print('Classifier:          {}'.format(classifier[j]))\n",
    "        print('Train accuracy:      {}'.format(train_accuracy[j]))\n",
    "        print('Test accuracy:       {}'.format(test_accuracy[j]))\n",
    "        j+=1\n",
    "        #print('Execution time:      {}'.format(exec_time))\n",
    "    train_accuracies.append(train_accuracy)\n",
    "    test_accuracies.append(test_accuracy)"
   ]
  },
  {
   "cell_type": "code",
   "execution_count": 53,
   "metadata": {
    "collapsed": false
   },
   "outputs": [
    {
     "data": {
      "text/plain": [
       "'Dataset: Polarity Dataset '"
      ]
     },
     "metadata": {},
     "output_type": "display_data"
    },
    {
     "data": {
      "text/plain": [
       "'best test accuracy = 65.37  for = B'"
      ]
     },
     "metadata": {},
     "output_type": "display_data"
    },
    {
     "data": {
      "text/plain": [
       "'Dataset: Amazon Dataset '"
      ]
     },
     "metadata": {},
     "output_type": "display_data"
    },
    {
     "data": {
      "text/plain": [
       "'best test accuracy = 54.70  for = SVM'"
      ]
     },
     "metadata": {},
     "output_type": "display_data"
    },
    {
     "data": {
      "text/plain": [
       "'Dataset: SAT dataset '"
      ]
     },
     "metadata": {},
     "output_type": "display_data"
    },
    {
     "data": {
      "text/plain": [
       "'best test accuracy = 70.10  for = MultiNB'"
      ]
     },
     "metadata": {},
     "output_type": "display_data"
    },
    {
     "data": {
      "text/plain": [
       "'Dataset: Trip Advisor '"
      ]
     },
     "metadata": {},
     "output_type": "display_data"
    },
    {
     "data": {
      "text/plain": [
       "'best test accuracy = 28.40  for = RC'"
      ]
     },
     "metadata": {},
     "output_type": "display_data"
    },
    {
     "data": {
      "text/plain": [
       "'Dataset: Items '"
      ]
     },
     "metadata": {},
     "output_type": "display_data"
    },
    {
     "data": {
      "text/plain": [
       "'best test accuracy = 50.40  for = SVM'"
      ]
     },
     "metadata": {},
     "output_type": "display_data"
    },
    {
     "data": {
      "application/pdf": "[encoded data removed]",
      "image/png": "[encoded data removed]",
      "text/plain": [
       "<matplotlib.figure.Figure at 0x210b5116978>"
      ]
     },
     "metadata": {
      "image/png": {
       "height": 503,
       "width": 908
      }
     },
     "output_type": "display_data"
    }
   ],
   "source": [
    "x =[0,1,2,3,4,5,6]\n",
    "classifier = ['KNN','SVM','Log-R','RanF', 'RC','B','MultiNB']\n",
    "Leg = [\"training\",\"test\"]\n",
    "n = 5\n",
    "fig, axes = plt.subplots(2, 3, squeeze=True, figsize=(15, 8))\n",
    "for i in range(n):\n",
    "    axes[i//3,i%3].set_xticks(x)\n",
    "    axes[i//3,i%3].set_xticklabels(classifier, fontdict=None, minor=False)\n",
    "    axes[i//3,i%3].plot(x,train_accuracies[i],\"r--\",x,test_accuracies[i],\"b--\")\n",
    "    axes[i//3,i%3].set_title(names[i])\n",
    "    axes[i//3,i%3].set_ylabel(\"accuracy\")\n",
    "    axes[i//3,i%3].set_xlabel(\"Classifier\")\n",
    "    axes[i//3,i%3].legend(Leg)\n",
    "\n",
    "for i in range(n):  \n",
    "    display(\"Dataset: {} \".format(names[i]))\n",
    "    value = max(test_accuracies[i])\n",
    "    index = test_accuracies[i].index(value)\n",
    "    display(\"best test accuracy = {}  for = {}\".format(value,classifier[index]))\n",
    "    \n",
    "    \n",
    "#plt.xticks(x,classifier)#,names,knn_test,\"b--\")\n",
    "#plt.plot(x,train_accuracies[0],\"r--\",x,test_accuracies[0],\"b--\")\n",
    "\n",
    "\n",
    "\n",
    "#plt.show()"
   ]
  },
  {
   "cell_type": "markdown",
   "metadata": {},
   "source": [
    "# Incremental Learning \n",
    "** **Due to memory limitation we can't apply the classifier on the whole chunck of data at the same time.Therefore we use partial training of classifiers. "
   ]
  },
  {
   "cell_type": "code",
   "execution_count": 77,
   "metadata": {
    "collapsed": false
   },
   "outputs": [
    {
     "name": "stdout",
     "output_type": "stream",
     "text": [
      "[['0' '                   I missed the New Moon trailer...']\n",
      " ['25' '              omg its already 7:30 :O']\n",
      " ['0'\n",
      "  \"          .. Omgaga. Im sooo  im gunna CRy. I've been at this dentist since 11.. I was suposed 2 just get a crown put on (30mins)...\"]\n",
      " ['0' '         i think mi bf is cheating on me!!!       T_T']\n",
      " ['0' '         or i just worry too much?        ']\n",
      " ['25' '       Juuuuuuuuuuuuuuuuussssst Chillin!!']\n",
      " ['0' '       Sunny Again        Work Tomorrow  :-|       TV Tonight']\n",
      " ['25' '      handed in my uniform today . i miss you already']\n",
      " ['25' '      hmmmm.... i wonder how she my number @-)']\n",
      " ['0' '      I must think about positive..']\n",
      " ['25' '      thanks to all the haters up in my face all day! 112-102']\n",
      " ['0' '      this weekend has sucked so far']\n",
      " ['0' '     jb isnt showing in australia any more!']\n",
      " ['0' '     ok thats it you win.']\n",
      " ['0' '    &lt;-------- This is the way i feel right now...']\n",
      " ['0'\n",
      "  \"    awhhe man.... I'm completely useless rt now. Funny, all I can do is twitter. http://myloc.me/27HX\"]\n",
      " ['25'\n",
      "  \"    Feeling strangely fine. Now I'm gonna go listen to some Semisonic to celebrate\"]\n",
      " ['0' '    HUGE roll of thunder just now...SO scary!!!!']\n",
      " ['0'\n",
      "  \"    I just cut my beard off. It's only been growing for well over a year. I'm gonna start it over. @shaunamanu is happy in the meantime.\"]\n",
      " ['0' '    Very sad about Iran.']]\n",
      "161\n",
      "Batch number = 0\n",
      "Batch Length = 10000\n",
      "accuracy = 0.0\n",
      "accuracy = 0.0\n",
      "accuracy = 0.0\n",
      "accuracy = 0.0\n",
      "\n",
      "\n",
      "Batch number = 1\n",
      "Batch Length = 10000\n",
      "accuracy = 0.0\n",
      "accuracy = 0.0\n",
      "accuracy = 0.0\n",
      "accuracy = 0.0\n",
      "Batch number = 2\n",
      "Batch Length = 10000\n",
      "accuracy = 0.0\n",
      "accuracy = 0.0\n",
      "accuracy = 0.0\n",
      "accuracy = 0.0\n",
      "Batch number = 3\n",
      "Batch Length = 10000\n",
      "accuracy = 0.0\n",
      "accuracy = 0.0\n",
      "accuracy = 0.0\n",
      "accuracy = 0.0\n",
      "\n",
      "\n",
      "Batch number = 4\n",
      "Batch Length = 10000\n",
      "accuracy = 0.0\n",
      "accuracy = 0.0\n",
      "accuracy = 0.0\n",
      "accuracy = 0.0\n",
      "Batch number = 5\n",
      "Batch Length = 10000\n",
      "accuracy = 0.0\n",
      "accuracy = 0.0\n",
      "accuracy = 0.0\n",
      "accuracy = 0.0\n",
      "Batch number = 6\n",
      "Batch Length = 10000\n",
      "accuracy = 0.0\n",
      "accuracy = 0.0\n",
      "accuracy = 0.0\n",
      "accuracy = 0.0\n",
      "\n",
      "\n",
      "Batch number = 7\n",
      "Batch Length = 10000\n",
      "accuracy = 0.0\n",
      "accuracy = 0.0\n",
      "accuracy = 0.0\n",
      "accuracy = 0.0\n",
      "Batch number = 8\n",
      "Batch Length = 10000\n"
     ]
    },
    {
     "ename": "KeyboardInterrupt",
     "evalue": "",
     "output_type": "error",
     "traceback": [
      "\u001b[1;31m---------------------------------------------------------------------------\u001b[0m",
      "\u001b[1;31mKeyboardInterrupt\u001b[0m                         Traceback (most recent call last)",
      "\u001b[1;32m<ipython-input-77-08206431e594>\u001b[0m in \u001b[0;36m<module>\u001b[1;34m()\u001b[0m\n\u001b[0;32m     94\u001b[0m     \u001b[0mfiltered\u001b[0m\u001b[1;33m=\u001b[0m\u001b[1;33m[\u001b[0m\u001b[1;33m]\u001b[0m\u001b[1;33m\u001b[0m\u001b[0m\n\u001b[0;32m     95\u001b[0m     \u001b[1;32mfor\u001b[0m \u001b[0mitem\u001b[0m \u001b[1;32min\u001b[0m \u001b[0mtextset\u001b[0m\u001b[1;33m:\u001b[0m\u001b[1;33m\u001b[0m\u001b[0m\n\u001b[1;32m---> 96\u001b[1;33m         \u001b[0mwords\u001b[0m \u001b[1;33m=\u001b[0m \u001b[0mword_tokenize\u001b[0m\u001b[1;33m(\u001b[0m\u001b[0mitem\u001b[0m\u001b[1;33m)\u001b[0m\u001b[1;33m\u001b[0m\u001b[0m\n\u001b[0m\u001b[0;32m     97\u001b[0m         \u001b[0mwords\u001b[0m \u001b[1;33m=\u001b[0m\u001b[1;33m[\u001b[0m\u001b[0mword\u001b[0m\u001b[1;33m.\u001b[0m\u001b[0mlower\u001b[0m\u001b[1;33m(\u001b[0m\u001b[1;33m)\u001b[0m \u001b[1;32mfor\u001b[0m \u001b[0mword\u001b[0m \u001b[1;32min\u001b[0m \u001b[0mwords\u001b[0m\u001b[1;33m]\u001b[0m\u001b[1;33m\u001b[0m\u001b[0m\n\u001b[0;32m     98\u001b[0m         \u001b[0mfiltered_item\u001b[0m\u001b[1;33m=\u001b[0m\u001b[1;33m[\u001b[0m\u001b[1;33m]\u001b[0m\u001b[1;33m;\u001b[0m\u001b[1;33m\u001b[0m\u001b[0m\n",
      "\u001b[1;32mC:\\Users\\pc\\Anaconda3\\lib\\site-packages\\nltk\\tokenize\\__init__.py\u001b[0m in \u001b[0;36mword_tokenize\u001b[1;34m(text, language)\u001b[0m\n\u001b[0;32m    107\u001b[0m     \u001b[1;33m:\u001b[0m\u001b[0mparam\u001b[0m \u001b[0mlanguage\u001b[0m\u001b[1;33m:\u001b[0m \u001b[0mthe\u001b[0m \u001b[0mmodel\u001b[0m \u001b[0mname\u001b[0m \u001b[1;32min\u001b[0m \u001b[0mthe\u001b[0m \u001b[0mPunkt\u001b[0m \u001b[0mcorpus\u001b[0m\u001b[1;33m\u001b[0m\u001b[0m\n\u001b[0;32m    108\u001b[0m     \"\"\"\n\u001b[1;32m--> 109\u001b[1;33m     return [token for sent in sent_tokenize(text, language)\n\u001b[0m\u001b[0;32m    110\u001b[0m             for token in _treebank_word_tokenize(sent)]\n\u001b[0;32m    111\u001b[0m \u001b[1;33m\u001b[0m\u001b[0m\n",
      "\u001b[1;32mC:\\Users\\pc\\Anaconda3\\lib\\site-packages\\nltk\\tokenize\\__init__.py\u001b[0m in \u001b[0;36m<listcomp>\u001b[1;34m(.0)\u001b[0m\n\u001b[0;32m    108\u001b[0m     \"\"\"\n\u001b[0;32m    109\u001b[0m     return [token for sent in sent_tokenize(text, language)\n\u001b[1;32m--> 110\u001b[1;33m             for token in _treebank_word_tokenize(sent)]\n\u001b[0m\u001b[0;32m    111\u001b[0m \u001b[1;33m\u001b[0m\u001b[0m\n",
      "\u001b[1;32mC:\\Users\\pc\\Anaconda3\\lib\\site-packages\\nltk\\tokenize\\treebank.py\u001b[0m in \u001b[0;36mtokenize\u001b[1;34m(self, text)\u001b[0m\n\u001b[0;32m    111\u001b[0m \u001b[1;33m\u001b[0m\u001b[0m\n\u001b[0;32m    112\u001b[0m         \u001b[1;32mfor\u001b[0m \u001b[0mregexp\u001b[0m \u001b[1;32min\u001b[0m \u001b[0mself\u001b[0m\u001b[1;33m.\u001b[0m\u001b[0mCONTRACTIONS2\u001b[0m\u001b[1;33m:\u001b[0m\u001b[1;33m\u001b[0m\u001b[0m\n\u001b[1;32m--> 113\u001b[1;33m             \u001b[0mtext\u001b[0m \u001b[1;33m=\u001b[0m \u001b[0mregexp\u001b[0m\u001b[1;33m.\u001b[0m\u001b[0msub\u001b[0m\u001b[1;33m(\u001b[0m\u001b[1;34mr' \\1 \\2 '\u001b[0m\u001b[1;33m,\u001b[0m \u001b[0mtext\u001b[0m\u001b[1;33m)\u001b[0m\u001b[1;33m\u001b[0m\u001b[0m\n\u001b[0m\u001b[0;32m    114\u001b[0m         \u001b[1;32mfor\u001b[0m \u001b[0mregexp\u001b[0m \u001b[1;32min\u001b[0m \u001b[0mself\u001b[0m\u001b[1;33m.\u001b[0m\u001b[0mCONTRACTIONS3\u001b[0m\u001b[1;33m:\u001b[0m\u001b[1;33m\u001b[0m\u001b[0m\n\u001b[0;32m    115\u001b[0m             \u001b[0mtext\u001b[0m \u001b[1;33m=\u001b[0m \u001b[0mregexp\u001b[0m\u001b[1;33m.\u001b[0m\u001b[0msub\u001b[0m\u001b[1;33m(\u001b[0m\u001b[1;34mr' \\1 \\2 '\u001b[0m\u001b[1;33m,\u001b[0m \u001b[0mtext\u001b[0m\u001b[1;33m)\u001b[0m\u001b[1;33m\u001b[0m\u001b[0m\n",
      "\u001b[1;32mC:\\Users\\pc\\Anaconda3\\lib\\re.py\u001b[0m in \u001b[0;36m_subx\u001b[1;34m(pattern, template)\u001b[0m\n\u001b[0;32m    323\u001b[0m \u001b[1;32mdef\u001b[0m \u001b[0m_subx\u001b[0m\u001b[1;33m(\u001b[0m\u001b[0mpattern\u001b[0m\u001b[1;33m,\u001b[0m \u001b[0mtemplate\u001b[0m\u001b[1;33m)\u001b[0m\u001b[1;33m:\u001b[0m\u001b[1;33m\u001b[0m\u001b[0m\n\u001b[0;32m    324\u001b[0m     \u001b[1;31m# internal: pattern.sub/subn implementation helper\u001b[0m\u001b[1;33m\u001b[0m\u001b[1;33m\u001b[0m\u001b[0m\n\u001b[1;32m--> 325\u001b[1;33m     \u001b[0mtemplate\u001b[0m \u001b[1;33m=\u001b[0m \u001b[0m_compile_repl\u001b[0m\u001b[1;33m(\u001b[0m\u001b[0mtemplate\u001b[0m\u001b[1;33m,\u001b[0m \u001b[0mpattern\u001b[0m\u001b[1;33m)\u001b[0m\u001b[1;33m\u001b[0m\u001b[0m\n\u001b[0m\u001b[0;32m    326\u001b[0m     \u001b[1;32mif\u001b[0m \u001b[1;32mnot\u001b[0m \u001b[0mtemplate\u001b[0m\u001b[1;33m[\u001b[0m\u001b[1;36m0\u001b[0m\u001b[1;33m]\u001b[0m \u001b[1;32mand\u001b[0m \u001b[0mlen\u001b[0m\u001b[1;33m(\u001b[0m\u001b[0mtemplate\u001b[0m\u001b[1;33m[\u001b[0m\u001b[1;36m1\u001b[0m\u001b[1;33m]\u001b[0m\u001b[1;33m)\u001b[0m \u001b[1;33m==\u001b[0m \u001b[1;36m1\u001b[0m\u001b[1;33m:\u001b[0m\u001b[1;33m\u001b[0m\u001b[0m\n\u001b[0;32m    327\u001b[0m         \u001b[1;31m# literal replacement\u001b[0m\u001b[1;33m\u001b[0m\u001b[1;33m\u001b[0m\u001b[0m\n",
      "\u001b[1;31mKeyboardInterrupt\u001b[0m: "
     ]
    }
   ],
   "source": [
    "from sklearn.linear_model import SGDClassifier\n",
    "from sklearn.linear_model import PassiveAggressiveClassifier\n",
    "from sklearn.linear_model import Perceptron\n",
    "from sklearn.naive_bayes import MultinomialNB\n",
    "\n",
    "test_stats = {'n_test': 0, 'n_test_pos': 0}\n",
    "def progress(cls_name, stats):\n",
    "    \"\"\"Report progress information, return a string.\"\"\"\n",
    "    duration = time.time() - stats['t0']\n",
    "    s = \"%20s classifier : \\t\" % cls_name\n",
    "    s += \"%(n_train)6d train docs (%(n_train_pos)6d positive) \" % stats\n",
    "    s += \"%(n_test)6d test docs (%(n_test_pos)6d positive) \" % test_stats\n",
    "    s += \"accuracy: %(accuracy).3f \" % stats\n",
    "    s += \"in %.2fs (%5d docs/s)\" % (duration, stats['n_train'] / duration)\n",
    "    return s\n",
    "\n",
    "\n",
    "Overall_data = [SAT_data,Amazon_data,polarity_data,review_data]\n",
    "batches = []\n",
    "\n",
    "minibatch_size = 10000\n",
    "\n",
    "# divide data into batches\n",
    "i = 0\n",
    "while (i<len(Overall_data)):\n",
    "    start = 0\n",
    "    trans = False\n",
    "    leftover_len = 0\n",
    "    while not(trans):\n",
    "        if not(leftover_len == 0):\n",
    "            batch = np.concatenate ((leftover , Overall_data[i][start:start + minibatch_size - leftover_len]), axis = 0)\n",
    "            batches.append(batch)\n",
    "            start = start + minibatch_size - leftover_len\n",
    "            leftover_len = 0\n",
    "        elif not (start + minibatch_size >= len(Overall_data[i]) ):\n",
    "            batch = Overall_data[i][start:start + minibatch_size]\n",
    "            batches.append(batch)\n",
    "            start = start + minibatch_size\n",
    "        else: \n",
    "            leftover_len = len(Overall_data[i]) - start\n",
    "            leftover = Overall_data[i][start:]\n",
    "            trans = True\n",
    "            start = 0\n",
    "            \n",
    "        \n",
    "    i += 1\n",
    "\n",
    "\n",
    "\n",
    "#number_minibatch = len(Overall_data)/minibatch_size\n",
    "#Divide into batches\n",
    "#def get_minibatch(data, size, pos_class=positive_class, iterate):\n",
    "#    if not len(data):\n",
    "#        return np.asarray([], dtype=int), np.asarray([], dtype=int)\n",
    "#    X = data[iterate*size:(iterate+1)*size]\n",
    "#    return np.asarray([X])\n",
    "\n",
    "\n",
    "\n",
    "    \n",
    "\n",
    "        \n",
    "#Classifiers      \n",
    "partial_fit_classifiers = {\n",
    "    'SGD': SGDClassifier(),\n",
    "    'Perceptron': Perceptron(),\n",
    "    'NB Multinomial': MultinomialNB(alpha=0.01),\n",
    "    'Passive-Aggressive': PassiveAggressiveClassifier(),\n",
    "}\n",
    "        \n",
    "                  \n",
    "cls_stats = {}\n",
    "\n",
    "for cls_name in partial_fit_classifiers:\n",
    "    stats = {'n_train': 0, 'n_train_pos': 0,\n",
    "             'accuracy': 0.0, 'accuracy_history': [(0, 0)], 't0': time.time(),\n",
    "             'runtime_history': [(0, 0)], 'total_fit_time': 0.0}\n",
    "    cls_stats[cls_name] = stats\n",
    "\n",
    "number_minibatch = len(batches)\n",
    "total_vect_time = 0.0\n",
    "all_classes = np.array([0, 1 , 2, 3, 4 ,5])\n",
    "    \n",
    "print(number_minibatch)\n",
    "# Main loop : iterate on mini-batches of examples\n",
    "for i in range(number_minibatch):\n",
    "    print(\"Batch number = {}\".format(i))\n",
    "    batch = batches[i]\n",
    "    print(\"Batch Length = {}\".format(len(batch)))\n",
    "    textset = column(batch,1)\n",
    "    filtered=[]\n",
    "    for item in textset:\n",
    "        words = word_tokenize(item)\n",
    "        words =[word.lower() for word in words]\n",
    "        filtered_item=[];\n",
    "        for w in words:\n",
    "            if w not in stop_words:\n",
    "                filtered_item.append(w)\n",
    "        result = ' '.join(filtered_item)\n",
    "        filtered.append(result)\n",
    "    X, vocab = compute_bag_of_words(filtered, nwords)\n",
    "    Y = column(batch,0)\n",
    "    \n",
    "    cutoff = math.ceil(len(Y)*0.75)\n",
    "    X_train = X[0:cutoff]\n",
    "    X_test = X[cutoff:]\n",
    "    y_train = Y[0:cutoff]\n",
    "    y_test = Y[cutoff:]\n",
    "    test_stats['n_test'] += len(y_test)\n",
    "    test_stats['n_test_pos'] += sum([int(x) for x in y_test])\n",
    "    \n",
    "    for cls_name, cls in partial_fit_classifiers.items():\n",
    "        tick = time.time()\n",
    "        # update estimator with examples in the current mini-batch\n",
    "        cls.partial_fit(X_train, y_train, classes=all_classes)\n",
    "\n",
    "        # accumulate test accuracy stats\n",
    "        cls_stats[cls_name]['total_fit_time'] += time.time() - tick\n",
    "        cls_stats[cls_name]['n_train'] += X_train.shape[0]\n",
    "        cls_stats[cls_name]['n_train_pos'] += sum([int(x) for x in y_train])\n",
    "        tick = time.time()\n",
    "        print(\"accuracy = {}\".format(cls.score(X_test, y_test)))\n",
    "        cls_stats[cls_name]['accuracy'] = cls.score(X_test, y_test)\n",
    "        cls_stats[cls_name]['prediction_time'] = time.time() - tick\n",
    "        acc_history = (cls_stats[cls_name]['accuracy'],\n",
    "                       cls_stats[cls_name]['n_train'])\n",
    "        cls_stats[cls_name]['accuracy_history'].append(acc_history)\n",
    "        run_history = (cls_stats[cls_name]['accuracy'],\n",
    "                       total_vect_time + cls_stats[cls_name]['total_fit_time'])\n",
    "        cls_stats[cls_name]['runtime_history'].append(run_history)\n",
    "\n",
    "        if i % 3 == 0:\n",
    "             k =5\n",
    "            #print(progress(cls_name, cls_stats[cls_name]))\n",
    "    if i % 3 == 0:\n",
    "        print('\\n')"
   ]
  }
 ],
 "metadata": {
  "kernelspec": {
   "display_name": "Python [Root]",
   "language": "python",
   "name": "Python [Root]"
  },
  "language_info": {
   "codemirror_mode": {
    "name": "ipython",
    "version": 3
   },
   "file_extension": ".py",
   "mimetype": "text/x-python",
   "name": "python",
   "nbconvert_exporter": "python",
   "pygments_lexer": "ipython3",
   "version": "3.5.2"
  }
 },
 "nbformat": 4,
 "nbformat_minor": 0
}
